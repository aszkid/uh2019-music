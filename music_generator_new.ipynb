{
 "cells": [
  {
   "cell_type": "code",
   "execution_count": 1,
   "metadata": {
    "colab": {
     "base_uri": "https://localhost:8080/",
     "height": 34
    },
    "colab_type": "code",
    "id": "OvtYbPtjApy0",
    "outputId": "d07f7f23-374a-40e3-c423-2fcfbe8245e2"
   },
   "outputs": [
    {
     "name": "stderr",
     "output_type": "stream",
     "text": [
      "Using TensorFlow backend.\n"
     ]
    }
   ],
   "source": [
    "import pandas as pd\n",
    "import numpy as np\n",
    "import re\n",
    "import random\n",
    "import sys\n",
    "\n",
    "from keras import layers\n",
    "from keras.models import Sequential\n",
    "from keras import optimizers"
   ]
  },
  {
   "cell_type": "markdown",
   "metadata": {
    "colab_type": "text",
    "id": "bzK7NTBxApy8"
   },
   "source": [
    "# Preview"
   ]
  },
  {
   "cell_type": "code",
   "execution_count": 2,
   "metadata": {
    "colab": {
     "base_uri": "https://localhost:8080/",
     "height": 104
    },
    "colab_type": "code",
    "id": "RrmNz0W4Apy9",
    "outputId": "2d126990-03f8-4e4e-e379-88f144ee0882",
    "scrolled": true
   },
   "outputs": [
    {
     "name": "stdout",
     "output_type": "stream",
     "text": [
      "/device:GPU:0\n"
     ]
    }
   ],
   "source": [
    "#Check for GPU Acceleration and stuff\n",
    "import tensorflow as tf\n",
    "print(tf.test.gpu_device_name())\n",
    "config = tf.ConfigProto()\n",
    "config.gpu_options.allow_growth = True\n",
    "\n",
    "sess = tf.Session(config=tf.ConfigProto(log_device_placement=True))"
   ]
  },
  {
   "cell_type": "code",
   "execution_count": 3,
   "metadata": {},
   "outputs": [],
   "source": [
    "#Processing of data\n",
    "import json\n",
    "with open('clean_dataset.json','r') as f:\n",
    "    training_data = json.loads(f.read()) #reminder that training_data is a huge ass string"
   ]
  },
  {
   "cell_type": "code",
   "execution_count": 4,
   "metadata": {},
   "outputs": [],
   "source": [
    "# print(training_data)"
   ]
  },
  {
   "cell_type": "markdown",
   "metadata": {
    "colab_type": "text",
    "id": "S-jGo9AVApzX"
   },
   "source": [
    "# Training"
   ]
  },
  {
   "cell_type": "code",
   "execution_count": 14,
   "metadata": {
    "colab": {},
    "colab_type": "code",
    "id": "p6H93h9LApzY"
   },
   "outputs": [],
   "source": [
    "num_vals = 14 # we use 0 to 13\n",
    "def vectorizing_seq (text, maxlen, step):    \n",
    "    \"\"\"\n",
    "    :param maxlen: the length of a sequence to extract as train\n",
    "    :type  maxlen: int\n",
    "    :param step: sample a new sequence every n steps\n",
    "    :type  step: int\n",
    "    :returns: (Numpy boolean array of shape \n",
    "                    (Number of sequences, maxlen, number of distinct character),\n",
    "               Numpy boolean array of shape \n",
    "                    (Number of sequences, number of distinct character),\n",
    "               dictionary mapping a character to its integer placeholder)\n",
    "    :rtype:   (numpy.ndarray, \n",
    "               numpy.ndarray, \n",
    "               dict)     \n",
    "    \"\"\"\n",
    "    \n",
    "    sentences = [] # hold extracted sequences\n",
    "    next_chars = [] # hold next characters for each corresponding sentence\n",
    "\n",
    "    for i in range(0, len(text) - maxlen, step):\n",
    "        sentences.append(text[i: i + maxlen])\n",
    "        next_chars.append(text[i + maxlen])\n",
    "\n",
    "    print('Number of sequences:', len(sentences))\n",
    "    print('Vectorization on ({}, {}, {}) dims...'.format(len(sentences), maxlen, num_vals)) \n",
    "    #POL WHAT THE FUCK IS THIS ABOVE LINE??? WHY WOULD YOU PUT A PARAMETER OUTSIDE OF THE FUNCTION\n",
    "    #ARGUMENTS HERE\n",
    "    \n",
    "    # one hot encoding the characters into binary arrays\n",
    "    x = np.zeros((len(sentences), maxlen, num_vals), dtype=np.bool)\n",
    "    y = np.zeros((len(sentences), num_vals), dtype=np.bool)\n",
    "    for i, sentence in enumerate(sentences):\n",
    "        for t, val in enumerate(sentence):\n",
    "            x[i, t, val] = 1\n",
    "        y[i, next_chars[i]] = 1\n",
    "        \n",
    "    return x, y"
   ]
  },
  {
   "cell_type": "code",
   "execution_count": 6,
   "metadata": {
    "colab": {},
    "colab_type": "code",
    "id": "VAiUksj_Apza"
   },
   "outputs": [],
   "source": [
    "def create_model(x, y, maxlen, epochs):\n",
    "    \"\"\"\n",
    "    Creates and trains a model.\n",
    "    :param x: Numpy boolean array of shape \n",
    "                    (Number of sequences, maxlen, number of distinct character)\n",
    "    :type  x: numpy.ndarray\n",
    "    :param y: Numpy boolean array of shape \n",
    "                    (Number of sequences, number of distinct character)\n",
    "    :type  y: numpy.ndarray\n",
    "    :param maxlen: the length of a sequence to extract as train\n",
    "    :type  maxlen: int\n",
    "    :param epochs: number of training iterations\n",
    "    :type  epochs: int\n",
    "    :param chars: list of unique characters\n",
    "    :type  chars: list\n",
    "    :returns: trained keras model\n",
    "    :rtype:   keras.engine.sequential.Sequential\n",
    "    \"\"\"\n",
    "\n",
    "#     model = Sequential()\n",
    "#     model.add(layers.GRU(\n",
    "#         32,\n",
    "#         return_sequences=True,\n",
    "#         input_shape=(maxlen, len(chars)))\n",
    "#     )\n",
    "#     model.add(layers.GRU(\n",
    "#         64,\n",
    "#         input_shape=(maxlen, len(chars)))\n",
    "#     )\n",
    "#     model.add(layers.Dense(\n",
    "#         len(chars), \n",
    "#         activation='softmax')\n",
    "#     )\n",
    "\n",
    "    # start of my model attempt, it works decently well\n",
    "    # - try commenting it out and using the previous one\n",
    "    # - also try removing the Dropout layers\n",
    "    # --------------------------------------------\n",
    "    model = Sequential()\n",
    "    model.add(layers.GRU(\n",
    "        256,\n",
    "        return_sequences=True,\n",
    "        input_shape=(maxlen, num_vals)\n",
    "    ))\n",
    "    model.add(layers.Dropout(0.5))\n",
    "    model.add(layers.GRU(128))\n",
    "    model.add(layers.Dropout(0.5))\n",
    "    model.add(layers.Dense(\n",
    "        num_vals,\n",
    "        activation='relu')) #alternatively: activation = 'softmax'\n",
    "    model.compile(loss='categorical_crossentropy', optimizer='rmsprop')\n",
    "    # --------------------------------------------\n",
    "\n",
    "    print(model.summary())\n",
    "    model.fit(x, y, batch_size=128, epochs=epochs)\n",
    "\n",
    "    return (model)"
   ]
  },
  {
   "cell_type": "code",
   "execution_count": 7,
   "metadata": {
    "colab": {},
    "colab_type": "code",
    "id": "keseYGPyApzd"
   },
   "outputs": [],
   "source": [
    "def train_model_from_text(text, maxlen=6, step=12, epochs=10):\n",
    "    \"\"\"\n",
    "    Given text, train the model.\n",
    "    \n",
    "    :param text: A string with all the text together.\n",
    "    :type  text: str\n",
    "    :param maxlen: the length of a sequence to extract as train\n",
    "    :type  maxlen: int\n",
    "    :param step: sample a new sequence every n steps\n",
    "    :type  step: int\n",
    "    :param epochs: number of training iterations\n",
    "    :type  epochs: int\n",
    "    :returns: (trained keras model,\n",
    "               dictionary mapping characters to digit representations)\n",
    "    :rtype:   (keras.engine.sequential.Sequential,\n",
    "               dict)\n",
    "    \"\"\"\n",
    "    \n",
    "    x, y = vectorizing_seq(text, maxlen, step)\n",
    "    model = create_model(x, y, maxlen, epochs)\n",
    "    \n",
    "    return model"
   ]
  },
  {
   "cell_type": "code",
   "execution_count": 8,
   "metadata": {
    "colab": {},
    "colab_type": "code",
    "id": "gZbKJMKrApzg"
   },
   "outputs": [],
   "source": [
    "def sample(preds, temperature=1.0):\n",
    "    \"\"\"\n",
    "    Compute new probability distribution based on the temperature\n",
    "    Higher temperature creates more randomness.\n",
    "    \n",
    "    :param preds: numpy array of shape (unique chars,), and elements sum to 1\n",
    "    :type  preds: numpy.ndarray\n",
    "    :param temperature: characterizes the entropy of probability distribution\n",
    "    :type  temperature: float\n",
    "    :returns: a number 0 to the length of preds - 1\n",
    "    :rtype:   int\n",
    "    \"\"\"\n",
    "    \n",
    "    preds = np.asarray(preds).astype('float64')\n",
    "    preds = np.log(preds) / temperature\n",
    "    exp_preds = np.exp(preds)\n",
    "    preds = exp_preds / np.sum(exp_preds)\n",
    "    probas = np.random.multinomial(1, preds, 1)\n",
    "    return np.argmax(probas)"
   ]
  },
  {
   "cell_type": "code",
   "execution_count": 9,
   "metadata": {
    "colab": {},
    "colab_type": "code",
    "id": "mClhlohUApzj"
   },
   "outputs": [],
   "source": [
    "#The real money generating part of this generator\n",
    "def text_generate(model, text, maxlen=4, temperature=1.0, textlen=10):\n",
    "    \"\"\"\n",
    "    Generate text based on a model.\n",
    "    \n",
    "    :param model: trained keras model\n",
    "    :type  model: keras.engine.sequential.Sequential\n",
    "    :param text: lyrics\n",
    "    :type  text: str\n",
    "    :param maxlen: maximum length of the sequences\n",
    "    :type  maxlen: int\n",
    "    :param textlen: Number of characters of generated sequence\n",
    "    :type  textlen: int\n",
    "    \"\"\"\n",
    "\n",
    "    start_index = random.randint(0, len(text) - maxlen - 1) \n",
    "    generated_text = text[start_index: start_index + maxlen]\n",
    "    outp = generated_text\n",
    "    print('--- Generating with temperature {}'.format(temperature))\n",
    "    print(outp)\n",
    "    \n",
    "    \n",
    "    for i in range(textlen):\n",
    "        sampled = np.zeros((1, maxlen, num_vals))\n",
    "        for t, char in enumerate(generated_text):\n",
    "            #print('(t, char) = ({}, {})'.format(t, char))\n",
    "            sampled[0, t, min(num_vals - 1, char)] = 1\n",
    "        preds = model.predict(sampled, verbose=0)[0]\n",
    "        next_char = sample(preds, temperature)\n",
    "        generated_text.append(next_char)\n",
    "        generated_text = generated_text[1:]\n",
    "        outp.append(next_char)\n",
    "    \n",
    "    return outp\n"
   ]
  },
  {
   "cell_type": "markdown",
   "metadata": {
    "colab_type": "text",
    "id": "Gb6RMIbrApzl"
   },
   "source": [
    "## Sample Training and Text Generation"
   ]
  },
  {
   "cell_type": "code",
   "execution_count": 10,
   "metadata": {
    "colab": {
     "base_uri": "https://localhost:8080/",
     "height": 927
    },
    "colab_type": "code",
    "id": "giR0e15pApzr",
    "outputId": "9881b6b8-3d5d-4e7c-d860-1c4ac795a376"
   },
   "outputs": [
    {
     "name": "stdout",
     "output_type": "stream",
     "text": [
      "Number of sequences: 27243\n",
      "Vectorization on (27243, 60, 14) dims...\n",
      "_________________________________________________________________\n",
      "Layer (type)                 Output Shape              Param #   \n",
      "=================================================================\n",
      "gru_1 (GRU)                  (None, 60, 256)           208128    \n",
      "_________________________________________________________________\n",
      "dropout_1 (Dropout)          (None, 60, 256)           0         \n",
      "_________________________________________________________________\n",
      "gru_2 (GRU)                  (None, 128)               147840    \n",
      "_________________________________________________________________\n",
      "dropout_2 (Dropout)          (None, 128)               0         \n",
      "_________________________________________________________________\n",
      "dense_1 (Dense)              (None, 14)                1806      \n",
      "=================================================================\n",
      "Total params: 357,774\n",
      "Trainable params: 357,774\n",
      "Non-trainable params: 0\n",
      "_________________________________________________________________\n",
      "None\n",
      "Epoch 1/10\n",
      "27243/27243 [==============================] - 35s 1ms/step - loss: 2.2481\n",
      "Epoch 2/10\n",
      "27243/27243 [==============================] - 34s 1ms/step - loss: 1.5610\n",
      "Epoch 3/10\n",
      "27243/27243 [==============================] - 34s 1ms/step - loss: 1.4875\n",
      "Epoch 4/10\n",
      "27243/27243 [==============================] - 33s 1ms/step - loss: 1.4034\n",
      "Epoch 5/10\n",
      "27243/27243 [==============================] - 33s 1ms/step - loss: 1.4375\n",
      "Epoch 6/10\n",
      "27243/27243 [==============================] - 33s 1ms/step - loss: 1.3729\n",
      "Epoch 7/10\n",
      "27243/27243 [==============================] - 33s 1ms/step - loss: 1.3393\n",
      "Epoch 8/10\n",
      "27243/27243 [==============================] - 33s 1ms/step - loss: 1.3195\n",
      "Epoch 9/10\n",
      "27243/27243 [==============================] - 33s 1ms/step - loss: 1.3324\n",
      "Epoch 10/10\n",
      "27243/27243 [==============================] - 33s 1ms/step - loss: 1.2833\n"
     ]
    }
   ],
   "source": [
    "maxlen = 60 # train on sequences of 60 characters (about 6 chords)\n",
    "\n",
    "model = train_model_from_text(\n",
    "    training_data,\n",
    "    maxlen=maxlen,\n",
    "    step=6, # jump over 10 characters (~ one chord) \n",
    "    epochs=15\n",
    ")"
   ]
  },
  {
   "cell_type": "code",
   "execution_count": 11,
   "metadata": {},
   "outputs": [],
   "source": [
    "def splitz(seq, cut):\n",
    "    group = []    \n",
    "    for num in seq:\n",
    "        if num != cut:\n",
    "            group.append(num)\n",
    "        elif group:\n",
    "            yield group\n",
    "            group = []"
   ]
  },
  {
   "cell_type": "code",
   "execution_count": 12,
   "metadata": {
    "colab": {
     "base_uri": "https://localhost:8080/",
     "height": 87
    },
    "colab_type": "code",
    "id": "C_B7RkdkApzx",
    "outputId": "a5c6237e-8901-4a64-f38f-ede3e328f43b"
   },
   "outputs": [
    {
     "name": "stdout",
     "output_type": "stream",
     "text": [
      "--- Generating with temperature 0.9\n",
      "[3, 7, 10, 12, 3, 7, 10, 12, 8, 0, 3, 12, 7, 11, 2, 12, 0, 3, 7, 12, 3, 7, 10, 12, 8, 0, 3, 12, 7, 11, 2, 12, 0, 3, 7, 12, 3, 7, 10, 12, 8, 0, 3, 12, 7, 11, 2, 12, 0, 3, 7, 12, 3, 7, 10, 12, 3, 7, 10, 12]\n"
     ]
    },
    {
     "name": "stderr",
     "output_type": "stream",
     "text": [
      "c:\\python36\\lib\\site-packages\\ipykernel_launcher.py:15: RuntimeWarning: divide by zero encountered in log\n",
      "  from ipykernel import kernelapp as app\n"
     ]
    },
    {
     "data": {
      "text/plain": [
       "[[3, 7, 10],\n",
       " [3, 7, 10],\n",
       " [8, 0, 3],\n",
       " [7, 11, 2],\n",
       " [0, 3, 7],\n",
       " [3, 7, 10],\n",
       " [8, 0, 3],\n",
       " [7, 11, 2],\n",
       " [0, 3, 7],\n",
       " [3, 7, 10],\n",
       " [8, 0, 3],\n",
       " [7, 11, 2],\n",
       " [0, 3, 7],\n",
       " [3, 7, 10],\n",
       " [3, 7, 10],\n",
       " [0, 0, 3, 7],\n",
       " [8, 0, 3],\n",
       " [10, 2, 5],\n",
       " [7, 10, 2],\n",
       " [7, 10, 2],\n",
       " [3, 7, 10],\n",
       " [9, 0, 4],\n",
       " [4, 7, 11],\n",
       " [7, 11, 2],\n",
       " [7, 11, 2],\n",
       " [0, 4, 7],\n",
       " [0, 4, 7],\n",
       " [5, 9, 0],\n",
       " [0, 4, 7],\n",
       " [7, 11, 2]]"
      ]
     },
     "execution_count": 12,
     "metadata": {},
     "output_type": "execute_result"
    }
   ],
   "source": [
    "outp = text_generate(\n",
    "    model, \n",
    "    training_data,\n",
    "    maxlen=maxlen,\n",
    "    temperature=.9,\n",
    "    textlen=60\n",
    ")\n",
    "list(splitz(outp, 12))"
   ]
  },
  {
   "cell_type": "code",
   "execution_count": 13,
   "metadata": {},
   "outputs": [],
   "source": [
    "import time\n",
    "model.save('run_{}.h5'.format(time.strftime(\"%Y%m%d-%H%M%S\")))"
   ]
  }
 ],
 "metadata": {
  "colab": {
   "name": "Prototype_text_generation.ipynb",
   "provenance": [],
   "version": "0.3.2"
  },
  "kernelspec": {
   "display_name": "Python 3",
   "language": "python",
   "name": "python3"
  },
  "language_info": {
   "codemirror_mode": {
    "name": "ipython",
    "version": 3
   },
   "file_extension": ".py",
   "mimetype": "text/x-python",
   "name": "python",
   "nbconvert_exporter": "python",
   "pygments_lexer": "ipython3",
   "version": "3.6.7"
  }
 },
 "nbformat": 4,
 "nbformat_minor": 1
}

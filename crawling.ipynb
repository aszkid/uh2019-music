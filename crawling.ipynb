{
 "cells": [
  {
   "cell_type": "code",
   "execution_count": 14,
   "metadata": {},
   "outputs": [
    {
     "name": "stdout",
     "output_type": "stream",
     "text": [
      "\u001b[39m\u001b[1mInstalling \u001b[32m\u001b[1mbs4\u001b[39m\u001b[22m…\u001b[39m\u001b[22m\n",
      "\u001b[34m\u001b[22mLooking in indexes: https://pypi.python.org/simple\n",
      "Requirement already satisfied: bs4 in /home/aszkid/.local/share/virtualenvs/uh2019-music-gzXjSOiB/lib/python3.6/site-packages (0.0.1)\n",
      "Requirement already satisfied: beautifulsoup4 in /home/aszkid/.local/share/virtualenvs/uh2019-music-gzXjSOiB/lib/python3.6/site-packages (from bs4) (4.7.1)\n",
      "Requirement already satisfied: soupsieve>=1.2 in /home/aszkid/.local/share/virtualenvs/uh2019-music-gzXjSOiB/lib/python3.6/site-packages (from beautifulsoup4->bs4) (1.7.3)\n",
      "\u001b[39m\u001b[22m\n",
      "\u001b[39m\u001b[1mAdding\u001b[39m\u001b[22m \u001b[32m\u001b[1mbs4\u001b[39m\u001b[22m \u001b[39m\u001b[1mto Pipfile's\u001b[39m\u001b[22m \u001b[31m\u001b[1m[packages]\u001b[39m\u001b[22m\u001b[39m\u001b[1m…\u001b[39m\u001b[22m\n",
      "\u001b[39m\u001b[22mLocking\u001b[39m\u001b[22m \u001b[31m\u001b[22m[dev-packages]\u001b[39m\u001b[22m \u001b[39m\u001b[22mdependencies…\u001b[39m\u001b[22m\n",
      "\u001b[39m\u001b[22mLocking\u001b[39m\u001b[22m \u001b[31m\u001b[22m[packages]\u001b[39m\u001b[22m \u001b[39m\u001b[22mdependencies…\u001b[39m\u001b[22m\n",
      "\u001b[39m\u001b[1mUpdated Pipfile.lock (a7a147)!\u001b[39m\u001b[22m\n",
      "\u001b[39m\u001b[1mInstalling \u001b[32m\u001b[1mrequests\u001b[39m\u001b[22m…\u001b[39m\u001b[22m\n",
      "\u001b[34m\u001b[22mLooking in indexes: https://pypi.python.org/simple\n",
      "Requirement already satisfied: requests in /home/aszkid/.local/share/virtualenvs/uh2019-music-gzXjSOiB/lib/python3.6/site-packages (2.21.0)\n",
      "Requirement already satisfied: chardet<3.1.0,>=3.0.2 in /home/aszkid/.local/share/virtualenvs/uh2019-music-gzXjSOiB/lib/python3.6/site-packages (from requests) (3.0.4)\n",
      "Requirement already satisfied: urllib3<1.25,>=1.21.1 in /home/aszkid/.local/share/virtualenvs/uh2019-music-gzXjSOiB/lib/python3.6/site-packages (from requests) (1.24.1)\n",
      "Requirement already satisfied: certifi>=2017.4.17 in /home/aszkid/.local/share/virtualenvs/uh2019-music-gzXjSOiB/lib/python3.6/site-packages (from requests) (2018.11.29)\n",
      "Requirement already satisfied: idna<2.9,>=2.5 in /home/aszkid/.local/share/virtualenvs/uh2019-music-gzXjSOiB/lib/python3.6/site-packages (from requests) (2.8)\n",
      "\u001b[39m\u001b[22m\n",
      "\u001b[39m\u001b[1mAdding\u001b[39m\u001b[22m \u001b[32m\u001b[1mrequests\u001b[39m\u001b[22m \u001b[39m\u001b[1mto Pipfile's\u001b[39m\u001b[22m \u001b[31m\u001b[1m[packages]\u001b[39m\u001b[22m\u001b[39m\u001b[1m…\u001b[39m\u001b[22m\n",
      "  PS: You have excellent taste! ✨ 🍰 ✨\n",
      "\u001b[39m\u001b[22mLocking\u001b[39m\u001b[22m \u001b[31m\u001b[22m[dev-packages]\u001b[39m\u001b[22m \u001b[39m\u001b[22mdependencies…\u001b[39m\u001b[22m\n",
      "\u001b[39m\u001b[22mLocking\u001b[39m\u001b[22m \u001b[31m\u001b[22m[packages]\u001b[39m\u001b[22m \u001b[39m\u001b[22mdependencies…\u001b[39m\u001b[22m\n",
      "\u001b[39m\u001b[1mUpdated Pipfile.lock (a7a147)!\u001b[39m\u001b[22m\n",
      "\u001b[39m\u001b[1mInstalling \u001b[32m\u001b[1mmusic21\u001b[39m\u001b[22m…\u001b[39m\u001b[22m\n",
      "\u001b[34m\u001b[22mLooking in indexes: https://pypi.python.org/simple\n",
      "Requirement already satisfied: music21 in /home/aszkid/.local/share/virtualenvs/uh2019-music-gzXjSOiB/lib/python3.6/site-packages (5.5.0)\n",
      "\u001b[39m\u001b[22m\n",
      "\u001b[39m\u001b[1mAdding\u001b[39m\u001b[22m \u001b[32m\u001b[1mmusic21\u001b[39m\u001b[22m \u001b[39m\u001b[1mto Pipfile's\u001b[39m\u001b[22m \u001b[31m\u001b[1m[packages]\u001b[39m\u001b[22m\u001b[39m\u001b[1m…\u001b[39m\u001b[22m\n",
      "\u001b[39m\u001b[22mLocking\u001b[39m\u001b[22m \u001b[31m\u001b[22m[dev-packages]\u001b[39m\u001b[22m \u001b[39m\u001b[22mdependencies…\u001b[39m\u001b[22m\n",
      "\u001b[39m\u001b[22mLocking\u001b[39m\u001b[22m \u001b[31m\u001b[22m[packages]\u001b[39m\u001b[22m \u001b[39m\u001b[22mdependencies…\u001b[39m\u001b[22m\n",
      "\u001b[39m\u001b[1mUpdated Pipfile.lock (a7a147)!\u001b[39m\u001b[22m\n"
     ]
    }
   ],
   "source": [
    "!pipenv install bs4\n",
    "!pipenv install requests\n",
    "!pipenv install music21"
   ]
  },
  {
   "cell_type": "code",
   "execution_count": 2,
   "metadata": {},
   "outputs": [
    {
     "name": "stderr",
     "output_type": "stream",
     "text": [
      "music21: Certain music21 functions might need these optional packages: matplotlib, scipy;\n",
      "                   if you run into errors, install them by following the instructions at\n",
      "                   http://mit.edu/music21/doc/installing/installAdditional.html\n"
     ]
    }
   ],
   "source": [
    "import requests\n",
    "from bs4 import BeautifulSoup\n",
    "from music21 import harmony, chord, key, interval"
   ]
  },
  {
   "cell_type": "code",
   "execution_count": 3,
   "metadata": {},
   "outputs": [],
   "source": [
    "def parse_song(url):\n",
    "    r = requests.get(url)\n",
    "    soup = BeautifulSoup(r.text, 'html.parser')\n",
    "    \n",
    "    chords = [ch.string for ch in soup.find_all(class_='ch')]\n",
    "    #for ch in soup.find_all(class_='ch'):\n",
    "    #    chords.\n",
    "        #c = chord.Chord(harmony.ChordSymbol(ch.string))\n",
    "        #chords.append(c.normalOrder)\n",
    "        \n",
    "    title = soup.title.string.replace(' Chords & Tabs', '')\n",
    "    return {\"title\": title, \"chords\": chords, \"url\": url}"
   ]
  },
  {
   "cell_type": "code",
   "execution_count": 4,
   "metadata": {},
   "outputs": [],
   "source": [
    "song = parse_song('https://www.guitartabs.cc/tabs/o/oasis/wonderwall_tab_ver_4.html')"
   ]
  },
  {
   "cell_type": "code",
   "execution_count": 85,
   "metadata": {},
   "outputs": [],
   "source": [
    "import sqlite3\n",
    "conn = sqlite3.connect('music.db')\n",
    "c = conn.cursor()\n",
    "c.execute('''CREATE TABLE IF NOT EXISTS songs\n",
    "    (id INTEGER PRIMARY KEY,\n",
    "    title TEXT UNIQUE,\n",
    "    url TEXT UNIQUE,\n",
    "    date DATETIME DEFAULT CURRENT_TIMESTAMP,\n",
    "    chords TEXT)''')\n",
    "conn.commit()"
   ]
  },
  {
   "cell_type": "code",
   "execution_count": 86,
   "metadata": {},
   "outputs": [],
   "source": [
    "import json\n",
    "def save_song(song):\n",
    "    c.execute('''INSERT OR IGNORE INTO songs (title, url, chords) VALUES\n",
    "    (?, ?, ?)''', (song['title'], song['url'], json.dumps(song['chords'])))\n",
    "    conn.commit()"
   ]
  },
  {
   "cell_type": "code",
   "execution_count": 90,
   "metadata": {},
   "outputs": [],
   "source": [
    "save_song(song)"
   ]
  },
  {
   "cell_type": "code",
   "execution_count": 91,
   "metadata": {},
   "outputs": [],
   "source": [
    "conn.close()"
   ]
  },
  {
   "cell_type": "code",
   "execution_count": 137,
   "metadata": {},
   "outputs": [
    {
     "data": {
      "text/plain": [
       "[7, 11, 2]"
      ]
     },
     "execution_count": 137,
     "metadata": {},
     "output_type": "execute_result"
    }
   ],
   "source": [
    "chord.Chord(harmony.ChordSymbol(\"G\")).normalOrder"
   ]
  },
  {
   "cell_type": "code",
   "execution_count": 6,
   "metadata": {},
   "outputs": [],
   "source": [
    "def print_vecs(chs):\n",
    "    for c in chs:\n",
    "        print(c.normalOrder)"
   ]
  },
  {
   "cell_type": "code",
   "execution_count": 197,
   "metadata": {},
   "outputs": [
    {
     "name": "stdout",
     "output_type": "stream",
     "text": [
      "[0, 4, 7]\n",
      "[5, 9, 0]\n",
      "[7, 11, 2]\n",
      "[0, 4, 7]\n"
     ]
    }
   ],
   "source": [
    "notes = ['C', 'F', 'G', 'C']\n",
    "print_vecs([chord.Chord(harmony.ChordSymbol(v)) for v in notes])"
   ]
  },
  {
   "cell_type": "code",
   "execution_count": 7,
   "metadata": {},
   "outputs": [
    {
     "name": "stdout",
     "output_type": "stream",
     "text": [
      "[0, 4, 7]\n",
      "[5, 9, 0]\n",
      "[7, 11, 2]\n",
      "[0, 4, 7]\n"
     ]
    }
   ],
   "source": [
    "def transpose(ch, tonality):\n",
    "    return ch.transpose(interval.Interval(-tonality.normalOrder[0]))\n",
    "\n",
    "ton = chord.Chord(harmony.ChordSymbol('F'))\n",
    "vecs = ['F', 'A#', 'C', 'F']\n",
    "vecs = [chord.Chord(harmony.ChordSymbol(c)) for c in vecs]\n",
    "vecs = [transpose(c, ton) for c in vecs]\n",
    "print_vecs(vecs)"
   ]
  },
  {
   "cell_type": "code",
   "execution_count": 15,
   "metadata": {},
   "outputs": [
    {
     "data": {
      "text/plain": [
       "[0, 4, 7]"
      ]
     },
     "execution_count": 15,
     "metadata": {},
     "output_type": "execute_result"
    }
   ],
   "source": [
    "transpose(chord.Chord(['D4', 'A4', 'F#5', 'D6']), chord.Chord(harmony.ChordSymbol('D'))).normalOrder"
   ]
  },
  {
   "cell_type": "code",
   "execution_count": 17,
   "metadata": {},
   "outputs": [
    {
     "data": {
      "text/plain": [
       "[0, 4, 7]"
      ]
     },
     "execution_count": 17,
     "metadata": {},
     "output_type": "execute_result"
    }
   ],
   "source": [
    "chord.Chord(harmony.ChordSymbol('C')).normalOrder"
   ]
  }
 ],
 "metadata": {
  "kernelspec": {
   "display_name": "Python 3",
   "language": "python",
   "name": "python3"
  },
  "language_info": {
   "codemirror_mode": {
    "name": "ipython",
    "version": 3
   },
   "file_extension": ".py",
   "mimetype": "text/x-python",
   "name": "python",
   "nbconvert_exporter": "python",
   "pygments_lexer": "ipython3",
   "version": "3.7.1"
  }
 },
 "nbformat": 4,
 "nbformat_minor": 2
}

{
 "cells": [
  {
   "cell_type": "code",
   "execution_count": 14,
   "metadata": {},
   "outputs": [
    {
     "name": "stdout",
     "output_type": "stream",
     "text": [
      "\u001b[39m\u001b[1mInstalling \u001b[32m\u001b[1mbs4\u001b[39m\u001b[22m…\u001b[39m\u001b[22m\n",
      "\u001b[34m\u001b[22mLooking in indexes: https://pypi.python.org/simple\n",
      "Requirement already satisfied: bs4 in /home/aszkid/.local/share/virtualenvs/uh2019-music-gzXjSOiB/lib/python3.6/site-packages (0.0.1)\n",
      "Requirement already satisfied: beautifulsoup4 in /home/aszkid/.local/share/virtualenvs/uh2019-music-gzXjSOiB/lib/python3.6/site-packages (from bs4) (4.7.1)\n",
      "Requirement already satisfied: soupsieve>=1.2 in /home/aszkid/.local/share/virtualenvs/uh2019-music-gzXjSOiB/lib/python3.6/site-packages (from beautifulsoup4->bs4) (1.7.3)\n",
      "\u001b[39m\u001b[22m\n",
      "\u001b[39m\u001b[1mAdding\u001b[39m\u001b[22m \u001b[32m\u001b[1mbs4\u001b[39m\u001b[22m \u001b[39m\u001b[1mto Pipfile's\u001b[39m\u001b[22m \u001b[31m\u001b[1m[packages]\u001b[39m\u001b[22m\u001b[39m\u001b[1m…\u001b[39m\u001b[22m\n",
      "\u001b[39m\u001b[22mLocking\u001b[39m\u001b[22m \u001b[31m\u001b[22m[dev-packages]\u001b[39m\u001b[22m \u001b[39m\u001b[22mdependencies…\u001b[39m\u001b[22m\n",
      "\u001b[39m\u001b[22mLocking\u001b[39m\u001b[22m \u001b[31m\u001b[22m[packages]\u001b[39m\u001b[22m \u001b[39m\u001b[22mdependencies…\u001b[39m\u001b[22m\n",
      "\u001b[39m\u001b[1mUpdated Pipfile.lock (a7a147)!\u001b[39m\u001b[22m\n",
      "\u001b[39m\u001b[1mInstalling \u001b[32m\u001b[1mrequests\u001b[39m\u001b[22m…\u001b[39m\u001b[22m\n",
      "\u001b[34m\u001b[22mLooking in indexes: https://pypi.python.org/simple\n",
      "Requirement already satisfied: requests in /home/aszkid/.local/share/virtualenvs/uh2019-music-gzXjSOiB/lib/python3.6/site-packages (2.21.0)\n",
      "Requirement already satisfied: chardet<3.1.0,>=3.0.2 in /home/aszkid/.local/share/virtualenvs/uh2019-music-gzXjSOiB/lib/python3.6/site-packages (from requests) (3.0.4)\n",
      "Requirement already satisfied: urllib3<1.25,>=1.21.1 in /home/aszkid/.local/share/virtualenvs/uh2019-music-gzXjSOiB/lib/python3.6/site-packages (from requests) (1.24.1)\n",
      "Requirement already satisfied: certifi>=2017.4.17 in /home/aszkid/.local/share/virtualenvs/uh2019-music-gzXjSOiB/lib/python3.6/site-packages (from requests) (2018.11.29)\n",
      "Requirement already satisfied: idna<2.9,>=2.5 in /home/aszkid/.local/share/virtualenvs/uh2019-music-gzXjSOiB/lib/python3.6/site-packages (from requests) (2.8)\n",
      "\u001b[39m\u001b[22m\n",
      "\u001b[39m\u001b[1mAdding\u001b[39m\u001b[22m \u001b[32m\u001b[1mrequests\u001b[39m\u001b[22m \u001b[39m\u001b[1mto Pipfile's\u001b[39m\u001b[22m \u001b[31m\u001b[1m[packages]\u001b[39m\u001b[22m\u001b[39m\u001b[1m…\u001b[39m\u001b[22m\n",
      "  PS: You have excellent taste! ✨ 🍰 ✨\n",
      "\u001b[39m\u001b[22mLocking\u001b[39m\u001b[22m \u001b[31m\u001b[22m[dev-packages]\u001b[39m\u001b[22m \u001b[39m\u001b[22mdependencies…\u001b[39m\u001b[22m\n",
      "\u001b[39m\u001b[22mLocking\u001b[39m\u001b[22m \u001b[31m\u001b[22m[packages]\u001b[39m\u001b[22m \u001b[39m\u001b[22mdependencies…\u001b[39m\u001b[22m\n",
      "\u001b[39m\u001b[1mUpdated Pipfile.lock (a7a147)!\u001b[39m\u001b[22m\n",
      "\u001b[39m\u001b[1mInstalling \u001b[32m\u001b[1mmusic21\u001b[39m\u001b[22m…\u001b[39m\u001b[22m\n",
      "\u001b[34m\u001b[22mLooking in indexes: https://pypi.python.org/simple\n",
      "Requirement already satisfied: music21 in /home/aszkid/.local/share/virtualenvs/uh2019-music-gzXjSOiB/lib/python3.6/site-packages (5.5.0)\n",
      "\u001b[39m\u001b[22m\n",
      "\u001b[39m\u001b[1mAdding\u001b[39m\u001b[22m \u001b[32m\u001b[1mmusic21\u001b[39m\u001b[22m \u001b[39m\u001b[1mto Pipfile's\u001b[39m\u001b[22m \u001b[31m\u001b[1m[packages]\u001b[39m\u001b[22m\u001b[39m\u001b[1m…\u001b[39m\u001b[22m\n",
      "\u001b[39m\u001b[22mLocking\u001b[39m\u001b[22m \u001b[31m\u001b[22m[dev-packages]\u001b[39m\u001b[22m \u001b[39m\u001b[22mdependencies…\u001b[39m\u001b[22m\n",
      "\u001b[39m\u001b[22mLocking\u001b[39m\u001b[22m \u001b[31m\u001b[22m[packages]\u001b[39m\u001b[22m \u001b[39m\u001b[22mdependencies…\u001b[39m\u001b[22m\n",
      "\u001b[39m\u001b[1mUpdated Pipfile.lock (a7a147)!\u001b[39m\u001b[22m\n"
     ]
    }
   ],
   "source": [
    "!pipenv install bs4\n",
    "!pipenv install requests\n",
    "!pipenv install music21"
   ]
  },
  {
   "cell_type": "code",
   "execution_count": 15,
   "metadata": {},
   "outputs": [],
   "source": [
    "import requests\n",
    "from bs4 import BeautifulSoup\n",
    "from music21 import harmony, chord, roman, key"
   ]
  },
  {
   "cell_type": "code",
   "execution_count": 16,
   "metadata": {},
   "outputs": [],
   "source": [
    "#r = requests.get('https://www.guitartabs.cc/tabs/l/lady_gaga/alejandro_crd.html')\n",
    "r = requests.get('https://www.guitartabs.cc/tabs/e/eagles/hotel_california_tab.html')\n",
    "soup = BeautifulSoup(r.text, 'html.parser')"
   ]
  },
  {
   "cell_type": "code",
   "execution_count": 17,
   "metadata": {},
   "outputs": [
    {
     "name": "stdout",
     "output_type": "stream",
     "text": [
      "first chord: Em\n",
      "E-minor triad : [4, 7, 11] : i\n",
      "B-dominant seventh chord : [3, 6, 9, 11] : V75#3\n",
      "D-quartal trichord : [2, 4, 9] : bvii52\n",
      "E-dominant-ninth : [2, 4, 6, 8, 11] : I75#32\n",
      "C-major triad : [0, 4, 7] : bVI\n",
      "G-major triad : [7, 11, 2] : III\n",
      "A-minor seventh chord : [4, 7, 9, 0] : iv7\n",
      "B-dominant seventh chord : [3, 6, 9, 11] : V75#3\n"
     ]
    }
   ],
   "source": [
    "chords = soup.find_all(class_='ch')\n",
    "print(\"first chord: {}\".format(chords[0].string))\n",
    "for ch in chords:\n",
    "    c = chord.Chord(harmony.ChordSymbol(ch.string))\n",
    "    rf = roman.romanNumeralFromChord(c, key.Key(chords[0].string))\n",
    "    print(\"{} : {} : {}\".format(c.pitchedCommonName, c.normalOrder, rf.figure))"
   ]
  },
  {
   "cell_type": "code",
   "execution_count": null,
   "metadata": {},
   "outputs": [],
   "source": []
  }
 ],
 "metadata": {
  "kernelspec": {
   "display_name": "uh2019-music-gzXjSOiB",
   "language": "python",
   "name": "uh2019-music-gzxjsoib"
  },
  "language_info": {
   "codemirror_mode": {
    "name": "ipython",
    "version": 3
   },
   "file_extension": ".py",
   "mimetype": "text/x-python",
   "name": "python",
   "nbconvert_exporter": "python",
   "pygments_lexer": "ipython3",
   "version": "3.6.3"
  }
 },
 "nbformat": 4,
 "nbformat_minor": 2
}

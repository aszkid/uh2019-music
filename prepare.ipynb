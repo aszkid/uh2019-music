{
 "cells": [
  {
   "cell_type": "code",
   "execution_count": 4,
   "metadata": {},
   "outputs": [],
   "source": [
    "from music21 import chord, harmony, interval\n",
    "import json"
   ]
  },
  {
   "cell_type": "code",
   "execution_count": 5,
   "metadata": {},
   "outputs": [],
   "source": [
    "def transpose(ch, key):\n",
    "  # transpose the given chord (wrt given key) to the C major scale\n",
    "  return ch.transpose(interval.Interval(-key.normalOrder[0]))\n",
    "\n",
    "def tomusic21(ch):\n",
    "  # flatten human-written chords into music21 chord objects\n",
    "  return [chord.Chord(harmony.ChordSymbol(c)) for c in ch]\n",
    "\n",
    "def flatten(ch):\n",
    "  # flatten music21 chords into normal order vectors\n",
    "  return [c.normalOrder for c in ch]\n",
    "\n",
    "def transpose_chs(chs, key):\n",
    "  # make into actual chords, and transpose each wrt the song's key\n",
    "  key = chord.Chord(harmony.ChordSymbol(key))\n",
    "  return [transpose(c, key) for c in chs]"
   ]
  },
  {
   "cell_type": "code",
   "execution_count": 6,
   "metadata": {},
   "outputs": [
    {
     "name": "stdout",
     "output_type": "stream",
     "text": [
      "[[0, 4, 7], [5, 9, 0], [7, 11, 2], [0, 4, 7]]\n",
      "[<music21.chord.Chord C3 E3 G3>, <music21.chord.Chord F2 A2 C3>, <music21.chord.Chord G2 B2 D3>, <music21.chord.Chord C3 E3 G3>]\n"
     ]
    }
   ],
   "source": [
    "print(flatten(tomusic21(['C', 'F', 'G', 'C'])))\n",
    "print((transpose_chs(tomusic21(['F', 'B-', 'C', 'F']), 'F')))"
   ]
  },
  {
   "cell_type": "code",
   "execution_count": 147,
   "metadata": {},
   "outputs": [],
   "source": [
    "def sanitize_chord(ch):\n",
    "    reps = {\n",
    "        '\\\\': '',\n",
    "        'b': '-',\n",
    "        '-5': 'b5',\n",
    "        '-9': 'b9',\n",
    "        '(maj7)': 'M7',\n",
    "        '(+5)': 'add5',\n",
    "        '+5': 'add5',\n",
    "        '/9': 'add9',\n",
    "        'maj9': 'add9',\n",
    "        'sus2': 'add2',\n",
    "        'add4add9':'add4',\n",
    "        'Maj7':'M7',\n",
    "        '/G#':'b9',\n",
    "        '(2)':'add2',\n",
    "    }\n",
    "    for k, v in reps.items():\n",
    "        ch = ch.replace(k, v)\n",
    "    return ch\n",
    "\n",
    "def preprocess(fname,out_file):\n",
    "    import sys\n",
    "    print('Preprocessing dataset...')\n",
    "    print('--------------------------------')\n",
    "    \n",
    "    count = 0\n",
    "    songs = ''\n",
    "    with open(fname, 'r') as f:\n",
    "        j = json.loads(f.read())\n",
    "        for song in j[count:]:\n",
    "            chs = [sanitize_chord(c) for c in song['chords']]\n",
    "            chs = tomusic21(chs)\n",
    "            if(song['tonality_name'] == \"\"):\n",
    "                continue\n",
    "            chs = transpose_chs(chs,sanitize_chord(song['tonality_name']))\n",
    "            chs = flatten(chs) #List of chords in a song \n",
    "            procs = [' '.join([str(n) for n in ch]) for ch in chs]\n",
    "            procs = ' - '.join(procs)\n",
    "            songs = songs + procs + ' . '\n",
    "            if count % 50 == 0:\n",
    "                sys.stdout.write('{}... '.format(count))\n",
    "            count += 1\n",
    "    g = open(out_file,'w')\n",
    "    g.write(songs)\n",
    "    g.close()\n",
    "    print('--------------------------------')\n",
    "    \n",
    "def better_preprocess(fname, outfname):\n",
    "    import sys\n",
    "    from functools import reduce\n",
    "    \n",
    "    print('Better preprocessing dataset...')\n",
    "    print('--------------------------------')\n",
    "    \n",
    "    count = 0\n",
    "    final = []\n",
    "    \n",
    "    with open(fname, 'r') as f:\n",
    "        j = json.loads(f.read())\n",
    "        \n",
    "        for song in j[count:]:\n",
    "            chs = [sanitize_chord(c) for c in song['chords']]\n",
    "            chs = tomusic21(chs)\n",
    "            key = sanitize_chord(song['tonality_name'])\n",
    "            if key == '':\n",
    "                continue\n",
    "                \n",
    "            chs = transpose_chs(chs, key)\n",
    "            chs = flatten(chs)\n",
    "            # separate chords with '12' integer\n",
    "            chs = reduce(lambda a, b: a+[12]+b, chs)\n",
    "            final.append(chs)\n",
    "            if count % 50 == 0:\n",
    "                sys.stdout.write('{}... '.format(count))\n",
    "            count += 1\n",
    "    \n",
    "    print('--------------------------------')\n",
    "    \n",
    "    # separate songs with '13' integer\n",
    "    final = reduce(lambda a, b: a+[13]+b, final)\n",
    "    \n",
    "    with open(outfname, 'w') as f:\n",
    "        json.dump(final, f)"
   ]
  },
  {
   "cell_type": "code",
   "execution_count": 132,
   "metadata": {},
   "outputs": [],
   "source": [
    "def count_none(fn):\n",
    "    count = 0 \n",
    "    with open(fn,'r') as f:\n",
    "        j = json.loads(f.read())\n",
    "        for song in j:\n",
    "            if(song['tonality_name'] == ''):\n",
    "                count += 1\n",
    "    return count\n",
    "\n",
    "#count_none('json_songs.json')"
   ]
  },
  {
   "cell_type": "code",
   "execution_count": 148,
   "metadata": {},
   "outputs": [
    {
     "name": "stdout",
     "output_type": "stream",
     "text": [
      "Preprocessing dataset...\n",
      "--------------------------------\n",
      "0... 50... 100... 150... 200... 250... 300... 350... 400... 450... 500... 550... 600... 650... --------------------------------\n",
      "Better preprocessing dataset...\n",
      "--------------------------------\n",
      "0... 50... 100... 150... 200... 250... 300... 350... 400... 450... 500... 550... 600... 650... --------------------------------\n"
     ]
    }
   ],
   "source": [
    "preprocess('json_songs.json', 'test')\n",
    "better_preprocess('json_songs.json', 'clean_dataset.json')"
   ]
  },
  {
   "cell_type": "code",
   "execution_count": 15,
   "metadata": {},
   "outputs": [
    {
     "data": {
      "text/plain": [
       "<music21.chord.Chord A2 C3 E3>"
      ]
     },
     "execution_count": 15,
     "metadata": {},
     "output_type": "execute_result"
    }
   ],
   "source": [
    "tomusic21(['Am'])[0]"
   ]
  },
  {
   "cell_type": "code",
   "execution_count": null,
   "metadata": {},
   "outputs": [],
   "source": [
    "z = chord.Chord(['D3', 'F#3','G3','A3','E3'])\n",
    "harmony.chordSymbolFigureFromChord(z,False)"
   ]
  },
  {
   "cell_type": "code",
   "execution_count": null,
   "metadata": {},
   "outputs": [],
   "source": [
    "chord.Chord(harmony.ChordSymbol('A-'))"
   ]
  },
  {
   "cell_type": "code",
   "execution_count": 23,
   "metadata": {},
   "outputs": [
    {
     "data": {
      "text/plain": [
       "([<music21.chord.Chord E3 G#3 B3>,\n",
       "  <music21.chord.Chord A2 C#3 E3>,\n",
       "  <music21.chord.Chord B2 D#3 F#3>,\n",
       "  <music21.chord.Chord G#3 B3 D#4>,\n",
       "  <music21.chord.Chord C#3 E3 G#3>,\n",
       "  <music21.chord.Chord A2 C#3 E3>,\n",
       "  <music21.chord.Chord B2 D#3 F#3>,\n",
       "  <music21.chord.Chord G#3 B3 D#4>,\n",
       "  <music21.chord.Chord C#3 E3 G#3>,\n",
       "  <music21.chord.Chord A2 C#3 E3>,\n",
       "  <music21.chord.Chord B2 D#3 F#3>,\n",
       "  <music21.chord.Chord G#3 B3 D#4>,\n",
       "  <music21.chord.Chord C#3 E3 G#3>,\n",
       "  <music21.chord.Chord A2 C#3 E3>,\n",
       "  <music21.chord.Chord B2 D#3 F#3>,\n",
       "  <music21.chord.Chord G#3 B3 D#4>,\n",
       "  <music21.chord.Chord C#3 E3 G#3>,\n",
       "  <music21.chord.Chord G3 B3 D4>,\n",
       "  <music21.chord.Chord C3 E3 G3>,\n",
       "  <music21.chord.Chord D3 F#3 A3>,\n",
       "  <music21.chord.Chord B2 D3 F#3>,\n",
       "  <music21.chord.Chord E3 G3 B3>,\n",
       "  <music21.chord.Chord C3 E3 G3>,\n",
       "  <music21.chord.Chord D3 F#3 A3>,\n",
       "  <music21.chord.Chord B2 D3 F#3>,\n",
       "  <music21.chord.Chord E3 G3 B3>,\n",
       "  <music21.chord.Chord A2 C#3 E3>,\n",
       "  <music21.chord.Chord B2 D#3 F#3>,\n",
       "  <music21.chord.Chord G#3 B3 D#4>,\n",
       "  <music21.chord.Chord C#3 E3 G#3>,\n",
       "  <music21.chord.Chord A2 C#3 E3>,\n",
       "  <music21.chord.Chord B2 D#3 F#3>,\n",
       "  <music21.chord.Chord G#3 B3 D#4>,\n",
       "  <music21.chord.Chord C#3 E3 G#3>,\n",
       "  <music21.chord.Chord A2 C#3 E3>,\n",
       "  <music21.chord.Chord B2 D#3 F#3>,\n",
       "  <music21.chord.Chord G#3 B3 D#4>,\n",
       "  <music21.chord.Chord C#3 E3 G#3>,\n",
       "  <music21.chord.Chord A2 C#3 E3>,\n",
       "  <music21.chord.Chord B2 D#3 F#3>,\n",
       "  <music21.chord.Chord G#3 B3 D#4>,\n",
       "  <music21.chord.Chord C#3 E3 G#3>,\n",
       "  <music21.chord.Chord G3 B3 D4>,\n",
       "  <music21.chord.Chord C3 E3 G3>,\n",
       "  <music21.chord.Chord D3 F#3 A3>,\n",
       "  <music21.chord.Chord B2 D3 F#3>,\n",
       "  <music21.chord.Chord E3 G3 B3>,\n",
       "  <music21.chord.Chord C3 E3 G3>,\n",
       "  <music21.chord.Chord D3 F#3 A3>,\n",
       "  <music21.chord.Chord B2 D3 F#3>,\n",
       "  <music21.chord.Chord E3 G3 B3>,\n",
       "  <music21.chord.Chord G3 B3 D4>,\n",
       "  <music21.chord.Chord C3 E3 G3>,\n",
       "  <music21.chord.Chord D3 F#3 A3>,\n",
       "  <music21.chord.Chord B2 D3 F#3>,\n",
       "  <music21.chord.Chord E3 G3 B3>,\n",
       "  <music21.chord.Chord C3 E3 G3>,\n",
       "  <music21.chord.Chord D3 F#3 A3>,\n",
       "  <music21.chord.Chord B2 D3 F#3>,\n",
       "  <music21.chord.Chord E3 G3 B3>,\n",
       "  <music21.chord.Chord A2 C#3 E3>,\n",
       "  <music21.chord.Chord G3 B3 D4>,\n",
       "  <music21.chord.Chord F#3 A3 C#4>,\n",
       "  <music21.chord.Chord G3 B3 D4>,\n",
       "  <music21.chord.Chord A2 C#3 E3>,\n",
       "  <music21.chord.Chord G3 B3 D4>,\n",
       "  <music21.chord.Chord F#3 A3 C#4>,\n",
       "  <music21.chord.Chord G3 B3 D4>,\n",
       "  <music21.chord.Chord A2 C3 E3>,\n",
       "  <music21.chord.Chord D3 F#3 A3>,\n",
       "  <music21.chord.Chord C3 E3 G3>,\n",
       "  <music21.chord.Chord B2 D3 F#3>,\n",
       "  <music21.chord.Chord E3 G3 B3>,\n",
       "  <music21.chord.Chord A2 C3 E3>,\n",
       "  <music21.chord.Chord D3 F#3 A3>,\n",
       "  <music21.chord.Chord C3 E3 G3>,\n",
       "  <music21.chord.Chord B2 D3 F#3>,\n",
       "  <music21.chord.Chord G3 B3 D4>,\n",
       "  <music21.chord.Chord C3 E3 G3>,\n",
       "  <music21.chord.Chord D3 F#3 A3>,\n",
       "  <music21.chord.Chord B2 D3 F#3>,\n",
       "  <music21.chord.Chord E3 G3 B3>,\n",
       "  <music21.chord.Chord C3 E3 G3>,\n",
       "  <music21.chord.Chord D3 F#3 A3>,\n",
       "  <music21.chord.Chord B2 D3 F#3>,\n",
       "  <music21.chord.Chord E3 G3 B3>,\n",
       "  <music21.chord.Chord G3 B3 D4>,\n",
       "  <music21.chord.Chord C3 E3 G3>,\n",
       "  <music21.chord.Chord D3 F#3 A3>,\n",
       "  <music21.chord.Chord B2 D3 F#3>,\n",
       "  <music21.chord.Chord E3 G3 B3>,\n",
       "  <music21.chord.Chord C3 E3 G3>,\n",
       "  <music21.chord.Chord D3 F#3 A3>,\n",
       "  <music21.chord.Chord B2 D3 F#3>,\n",
       "  <music21.chord.Chord E3 G3 B3>,\n",
       "  <music21.chord.Chord G3 B3 D4>,\n",
       "  <music21.chord.Chord C3 E3 G3>,\n",
       "  <music21.chord.Chord D3 F#3 A3>,\n",
       "  <music21.chord.Chord B2 D3 F#3>,\n",
       "  <music21.chord.Chord E3 G3 B3>,\n",
       "  <music21.chord.Chord C3 E3 G3>,\n",
       "  <music21.chord.Chord D3 F#3 A3>,\n",
       "  <music21.chord.Chord B2 D3 F#3>,\n",
       "  <music21.chord.Chord E3 G3 B3>,\n",
       "  <music21.chord.Chord G3 B3 D4>,\n",
       "  <music21.chord.Chord C3 E3 G3>,\n",
       "  <music21.chord.Chord D3 F#3 A3>,\n",
       "  <music21.chord.Chord B2 D3 F#3>,\n",
       "  <music21.chord.Chord E3 G3 B3>,\n",
       "  <music21.chord.Chord C3 E3 G3>,\n",
       "  <music21.chord.Chord D3 F#3 A3>,\n",
       "  <music21.chord.Chord B2 D3 F#3>,\n",
       "  <music21.chord.Chord E3 G3 B3>,\n",
       "  <music21.chord.Chord D3 F#3 A3>,\n",
       "  <music21.chord.Chord C3 E3 G3>,\n",
       "  <music21.chord.Chord G3 B3 D4>],\n",
       " '')"
      ]
     },
     "execution_count": 23,
     "metadata": {},
     "output_type": "execute_result"
    }
   ],
   "source": [
    "def find_song(fname, num):\n",
    "    with open(fname,'r') as f:\n",
    "        j = json.loads(f.read())\n",
    "        raw = j[num]\n",
    "        chs = [sanitize_chord(c) for c in raw['chords']]\n",
    "        chs = tomusic21(chs)\n",
    "#         print(chs)\n",
    "        return chs, raw['tonality_name']\n",
    "        \n",
    "find_song('json_songs.json',201)"
   ]
  },
  {
   "cell_type": "code",
   "execution_count": 71,
   "metadata": {},
   "outputs": [],
   "source": [
    "c = chord.Chord(['C', 'E-', 'G', 'B-'])"
   ]
  },
  {
   "cell_type": "code",
   "execution_count": 72,
   "metadata": {},
   "outputs": [],
   "source": [
    "from music21 import midi, volume, stream\n",
    "s = stream.Stream([c])\n",
    "mf = midi.translate.streamToMidiFile(s)\n",
    "mf.open('cegb.midi', 'wb')\n",
    "mf.write()\n",
    "mf.close()"
   ]
  },
  {
   "cell_type": "code",
   "execution_count": 115,
   "metadata": {},
   "outputs": [
    {
     "name": "stdout",
     "output_type": "stream",
     "text": [
      "<music21.stream.Stream 0x24e71cd1128>\n"
     ]
    }
   ],
   "source": [
    "# paste the output of the NN in here, and it will generate a midi file with the chord progression\n",
    "outp = '10 2 5 - 0 4 7 - 9 0 4 - 2 6 9 - 5 8 0 - 0 4 7 - 0 4 7 - 7 11 2 - 0 4 7 - 0 4 7 - 2 5 9 - 7 11 2 - 0 4 7 - 0 4 7 - 5 9 0 - 7 11 2 - 10 2 5 - 7 11 2 - 2 6 9 - 5 9 0 - 0 4 7 - 5 9 0 - 0 4 7 - 2 5 9 - 7 11 2 - 0 4 7 - 5 9 0 - 0 4 7 - 2 5 9 - 7 11 2 - 0 4 7 - 5 '\n",
    "chords = outp.split('-')\n",
    "chords = [[int(c) for c in ch.split()] for ch in chords]\n",
    "chords = [ chord.Chord(ch) for ch in chords ]\n",
    "\n",
    "off = 0.0\n",
    "for ch in chords:\n",
    "    ch.volume = volume.Volume(velocity=90)\n",
    "    ch.volume.velocityIsRelative = False\n",
    "    ch.offset = off\n",
    "    off += 1.2\n",
    "    \n",
    "s = stream.Stream(chords)\n",
    "print(s)\n",
    "mf = midi.translate.streamToMidiFile(s)\n",
    "mf.open('new9_0_5.midi', 'wb')\n",
    "mf.write()\n",
    "mf.close()"
   ]
  }
 ],
 "metadata": {
  "kernelspec": {
   "display_name": "Python 3",
   "language": "python",
   "name": "python3"
  },
  "language_info": {
   "codemirror_mode": {
    "name": "ipython",
    "version": 3
   },
   "file_extension": ".py",
   "mimetype": "text/x-python",
   "name": "python",
   "nbconvert_exporter": "python",
   "pygments_lexer": "ipython3",
   "version": "3.6.7"
  }
 },
 "nbformat": 4,
 "nbformat_minor": 2
}

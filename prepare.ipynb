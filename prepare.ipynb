{
 "cells": [
  {
   "cell_type": "code",
   "execution_count": 9,
   "metadata": {},
   "outputs": [],
   "source": [
    "from music21 import chord, harmony, interval\n",
    "import json"
   ]
  },
  {
   "cell_type": "code",
   "execution_count": 5,
   "metadata": {},
   "outputs": [],
   "source": [
    "def transpose(ch, key):\n",
    "  # transpose the given chord (wrt given key) to the C major scale\n",
    "  return ch.transpose(interval.Interval(-key.normalOrder[0]))\n",
    "\n",
    "def tomusic21(ch):\n",
    "  # flatten human-written chords into music21 chord objects\n",
    "  return [chord.Chord(harmony.ChordSymbol(c)) for c in ch]\n",
    "\n",
    "def flatten(ch):\n",
    "  # flatten music21 chords into normal order vectors\n",
    "  return [c.normalOrder for c in ch]\n",
    "\n",
    "def transpose_chs(chs, key):\n",
    "  # make into actual chords, and transpose each wrt the song's key\n",
    "  key = chord.Chord(harmony.ChordSymbol(key))\n",
    "  return [transpose(c, key) for c in chs]"
   ]
  },
  {
   "cell_type": "code",
   "execution_count": 59,
   "metadata": {},
   "outputs": [
    {
     "name": "stdout",
     "output_type": "stream",
     "text": [
      "[[0, 4, 7], [5, 9, 0], [7, 11, 2], [0, 4, 7]]\n",
      "[[0, 4, 7], [5, 9, 0], [7, 11, 2], [0, 4, 7]]\n"
     ]
    }
   ],
   "source": [
    "print(flatten(tomusic21(['C', 'F', 'G', 'C'])))\n",
    "print(flatten(normalize_song({'key': 'F', 'chords': ['F', 'B-', 'C', 'F']})))"
   ]
  },
  {
   "cell_type": "code",
   "execution_count": null,
   "metadata": {},
   "outputs": [],
   "source": [
    "def sanitize_chord(ch):\n",
    "    reps = {\n",
    "        '\\\\': '',\n",
    "        'b': '-',\n",
    "        '-5': 'b5',\n",
    "        '-9': 'b9',\n",
    "        '(maj7)': 'M7',\n",
    "        '(+5)': 'add5',\n",
    "        '/9': 'add9',\n",
    "        'maj9': 'add9',\n",
    "        'sus2': 'add2'\n",
    "    }\n",
    "    for k, v in reps.items():\n",
    "        ch = ch.replace(k, v)\n",
    "    return ch\n",
    "\n",
    "def preprocess():\n",
    "    count = 0\n",
    "    with open('json_songs.json', 'r') as f:\n",
    "        j = json.loads(f.read())\n",
    "        for song in j:\n",
    "            chs = [sanitize_chord(c) for c in song['chords']]\n",
    "            print(\"SONG: {}\".format(count))\n",
    "            chs = tomusic21(chs)\n",
    "            count += 1\n",
    "            #print(\"{} - {}\".format(song['chords'], transpose_chs(chs, song['tonality_name'])))"
   ]
  },
  {
   "cell_type": "code",
   "execution_count": 96,
   "metadata": {},
   "outputs": [
    {
     "name": "stdout",
     "output_type": "stream",
     "text": [
      "SONG 0\n",
      "['G', 'G', 'Em', 'C', 'D', 'G', 'Em', 'C', 'D', 'G', 'Em', 'C', 'G', 'D', 'G', 'Em', 'C', 'D', 'Em', 'C', 'G', 'D', 'Em', 'C', 'G', 'D', 'Em', 'C', 'G', 'D', 'Em', 'C', 'G', 'D', 'G', 'G', 'D/F#', 'Em', 'D', 'C', 'D', 'G', 'Em', 'C', 'D', 'G', 'Em', 'C', 'D', 'G', 'Em', 'C', 'G', 'D', 'G', 'Em', 'C', 'D', 'Em', 'C', 'G', 'D', 'Em', 'C', 'G', 'D', 'Em', 'C', 'G', 'D', 'Em', 'C', 'G', 'D', 'G', 'G', 'Em', 'C', 'D', 'Em', 'C', 'G', 'D', 'Em', 'C', 'G', 'D', 'Em', 'C', 'G', 'D', 'Em', 'C', 'G', 'D', 'G/B', 'C', 'Dadd4', 'D', 'G', 'G', 'D/F#', 'Em', 'D', 'C', 'D', 'G']\n",
      "SONG 1\n",
      "['C', 'G', 'Am', 'C', 'G', 'C', 'Em', 'Am', 'F', 'C', 'G', 'F', 'G', 'Am', 'F', 'C', 'G', 'C', 'C', 'Em', 'Am', 'F', 'C', 'G', 'F', 'G', 'Am', 'F', 'C', 'G', 'C', 'Em', 'B7', 'Em', 'B7', 'Em', 'B7', 'Em', 'A7', 'Dm', 'G', 'C', 'Em', 'Am', 'F', 'C', 'G', 'F', 'G', 'Am', 'F', 'C', 'G', 'C', 'Em', 'B7', 'Em', 'B7', 'Em', 'B7', 'Em', 'A7', 'Dm', 'G', 'C', 'Em', 'Am', 'F', 'C', 'G', 'F', 'G', 'Am', 'F', 'C', 'G', 'C', 'F', 'G', 'Am', 'F', 'C', 'G', 'C', 'C', 'D', 'Em', 'F#m', 'Am', 'Bm', 'F', 'G', 'G', 'A', 'B7', 'C#7', 'A7', 'B7', 'Dm', 'Em']\n",
      "SONG 2\n",
      "['G', 'Am', 'Bm', 'G', 'Am', 'Bm', 'C', 'Cm', 'Bm', 'E', 'Am', 'Bm', 'C', 'Am', 'D', 'D', 'Am', 'Bm', 'C', 'Cm', 'Bm', 'E', 'Am', 'Bm', 'C', 'Am', 'D', 'G', 'C', 'C/D', 'Bm', 'Em', 'Am', 'D', 'G', 'Dm', 'C', 'C/D', 'Bm', 'Em', 'Am', 'D', 'G', 'Am', 'Bm', 'C', 'Cm', 'Bm', 'E', 'Am', 'Bm', 'C', 'Am', 'D', 'Em', 'D', 'C', 'Em', 'D', 'C', 'Em', 'D', 'C', 'Em', 'D', 'C', 'Em', 'D', 'C', 'D', 'C', 'C/D', 'Bm', 'Em', 'Am', 'D', 'G', 'Dm', 'C', 'C/D', 'Bm', 'Em', 'Am', 'D', 'C', 'Bm', 'Am', 'D', 'G']\n",
      "SONG 3\n",
      "['D', 'Bm', 'Em', 'A', 'D', 'Bm', 'G', 'D', 'E', 'A', 'F#m', 'Bm', 'E', 'A', 'A7', 'D', 'Bm', 'F#m', 'G', 'D', 'G', 'D', 'Bm', 'Em', 'A', 'D', 'A', 'F#m', 'Bm', 'E', 'A', 'A7', 'D', 'Bm', 'F#m', 'G', 'D', 'G', 'D', 'Bm', 'Em', 'A', 'D', 'Bm', 'F#m', 'G', 'D', 'Bm', 'F#m', 'B', 'Cdim', 'B', 'Em', 'A', 'D', 'Bm', 'F#m', 'G', 'D', 'G', 'D', 'Bm', 'Em', 'A', 'D', 'Bm', 'F#m', 'Em', 'Gm', 'D']\n",
      "SONG 4\n",
      "['G', 'A7', 'G', 'A7', 'D7', 'Am7', 'D7', 'G', 'Am7', 'G', 'Em', 'G7', 'C', 'Am', 'D7', 'G#', 'G', 'F#', 'G', 'G#', 'G', 'F#', 'G', 'C', 'G/B', 'B-dim7', 'D7', 'G', 'G', 'Em', 'Am', 'Am', 'D', 'G', 'Em', 'Am', 'D', 'C', 'G', 'Am', 'Dm', 'G', 'C', 'G', 'Am', 'Fm', 'C', 'G', 'G', 'Em', 'Am', 'Am', 'D', 'G', 'Em', 'Am', 'D', 'C', 'G', 'Am', 'Dm', 'G', 'C', 'C', 'G', 'Am', 'Dm', 'G', 'C', 'G', 'Am', 'Dm', 'B-', 'B-', 'A', 'G#', 'G', 'F#', 'B', 'F#', 'B', 'F#', 'F#', 'B', 'F#', 'B', 'F#', 'B', 'F#', 'A#', 'F', 'A', 'C#', 'F#', 'G#', 'G', 'F#', 'G', 'G#', 'G', 'F#', 'G', 'F', 'C', 'Cdim', 'C', 'F', 'C', 'Cdim', 'C', 'F', 'C/E', 'D', 'G', 'F', 'C/E', 'D#dim', 'Dm7', 'G#', 'G', 'F#', 'G', 'G#', 'G', 'F#', 'G', 'C', 'G', 'C', 'G', 'C', 'G', 'D#7', 'G#m', 'F#', 'B', 'A#', 'D#', 'G', 'C', 'C', 'G', 'C', 'F', 'B', 'Em', 'G', 'C', 'C', 'C', 'D', 'G', 'C', 'G', 'B-', 'G', 'C', 'F', 'Dm', 'G', 'Dm', 'G', 'Dm', 'G', 'Dm', 'G', 'C', 'C', 'C', 'C', 'D', 'A-', 'F', 'G', 'G', 'G', 'C', 'G', 'Am', 'E', 'Am', 'E', 'Am', 'G', 'C', 'B', 'Em', 'F', 'C', 'Am', 'Em', 'Am', 'Em', 'Am', 'Fm', 'F/G', 'C', 'C', 'F/C', 'C', 'Cdim', 'G/B', 'Gm/B-', 'A', 'B-dim', 'A', 'A7', 'D', 'G', 'D/F#', 'Ddim/F', 'Em7', 'D']\n",
      "SONG 5\n",
      "['D', 'D', 'Bm', 'G', 'D', 'D', 'Bm', 'G', 'D', 'G', 'A', 'D', 'G', 'A', 'D', 'G', 'A', 'D', 'F#m/C#', 'Bm', 'G', 'A', 'D', 'F#m/C#', 'Bm', 'G', 'A', 'D', 'Bm', 'G', 'A', 'D', 'Bm', 'G', 'D', 'D', 'Bm', 'G', 'D', 'G', 'A', 'D', 'G', 'A', 'D', 'G', 'A', 'D', 'F#m/C#', 'Bm', 'G', 'A', 'D', 'F#m/C#', 'Bm', 'G', 'A', 'D', 'Bm', 'G', 'A', 'D', 'Bm', 'G', 'A', 'G', 'A', 'D', 'F#m/C#', 'Bm', 'G', 'A', 'D', 'F#m/C#', 'Bm', 'G', 'A', 'D', 'Bm', 'D', 'D']\n",
      "SONG 6\n",
      "['C', 'Am', 'C', 'Am', 'C', 'Am', 'C', 'Am', 'F', 'G', 'C', 'G', 'C', 'F', 'G', 'Am', 'F', 'G', 'E7', 'Am', 'F', 'Am', 'F', 'C', 'G', 'C', 'G', 'C', 'Am', 'C', 'Am', 'F', 'G', 'C', 'G', 'C', 'F', 'G', 'Am', 'F', 'G', 'E7', 'Am', 'F', 'Am', 'F', 'C', 'G', 'C', 'G', 'C', 'Am', 'C', 'Am', 'F', 'G', 'C', 'G', 'C', 'F', 'G', 'Am', 'F', 'G', 'E7', 'Am', 'F', 'Am', 'F', 'C', 'G', 'C', 'G', 'C', 'Am', 'C', 'Am', 'F', 'G', 'C', 'G', 'C', 'F', 'G', 'Am', 'F', 'G', 'E7', 'Am', 'F', 'Am', 'F', 'C', 'G', 'C', 'G', 'C', 'Am', 'C', 'Am', 'F', 'G', 'C', 'G', 'C', 'F', 'G', 'Am', 'F', 'G', 'E7', 'Am', 'F', 'Am', 'F', 'C', 'G', 'C', 'G']\n",
      "SONG 7\n",
      "['Em', 'D', 'G', 'C', 'D', 'Em', 'D', 'G', 'C', 'G', 'D', 'Em', 'D', 'G', 'C', 'C', 'D', 'Em', 'D', 'G', 'C', 'D', 'C', 'D', 'G', 'C', 'D', 'Em', 'D', 'G', 'C', 'G', 'D', 'Em', 'D', 'G', 'C', 'C', 'D', 'Em', 'D', 'G', 'C', 'G', 'D', 'Em', 'D', 'G', 'C', 'G', 'D', 'Am', 'D', 'G', 'D', 'Em', 'Am', 'D', 'G', 'D', 'Em', 'Em', 'Bm', 'D', 'A', 'Am', 'D', 'G', 'D', 'Em', 'Am', 'D', 'G', 'D', 'Em', 'Am', 'D', 'G', 'D', 'Em', 'Am', 'D', 'G', 'D', 'Em']\n",
      "SONG 8\n",
      "['Em', 'C', 'G', 'D', 'Em', 'Cmaj7', 'G', 'D', 'Em', 'C', 'G', 'D', 'Em', 'Cmaj7', 'G', 'D', 'Em', 'Cadd9', 'G', 'D', 'Amadd9', 'Am', 'G', 'D', 'Amadd9', 'G', 'D', 'G', 'Emadd9', 'Am/C', 'C/D', 'D', 'G', 'Emadd9', 'Am/C', 'C/D', 'D', 'Em', 'C', 'G', 'Dadd9', 'Em', 'C', 'G', 'Dadd9', 'Em', 'C', 'G', 'D', 'Em', 'C', 'G', 'D', 'Em', 'C', 'G', 'D', 'Em', 'C', 'G', 'D', 'Am', 'Am', 'G', 'D', 'Amadd9', 'G', 'D', 'G', 'Emadd9', 'Am/C', 'C/D', 'D', 'G', 'Emadd9', 'Am/C', 'C/D', 'D', 'Em', 'C', 'G', 'Dadd9', 'Em', 'C', 'G', 'Dadd9', 'Am', 'G', 'D', 'Amadd9', 'Am', 'G', 'D', 'G', 'Emadd9', 'Am/C', 'C/D', 'D', 'G', 'Emadd9', 'Am/C', 'C/D', 'D', 'Em', 'C', 'G', 'Dadd9', 'Em', 'C', 'G', 'Dadd9', 'Em', 'C', 'G', 'D', 'Em', 'C', 'G', 'D']\n",
      "SONG 9\n",
      "['G', 'Em', 'C', 'D', 'G', 'G', 'Em', 'C', 'D', 'G', 'G', 'Em', 'C', 'D', 'Em', 'C', 'D', 'Em', 'C', 'D', 'G', 'D', 'Em', 'D', 'G', 'D', 'C', 'Cm', 'G', 'G', 'Em', 'C', 'D', 'G', 'G', 'Em', 'C', 'D', 'Em', 'C', 'D', 'Em', 'C', 'D', 'G', 'D', 'Em', 'D', 'G', 'D', 'C', 'Cm', 'C', 'D', 'Em', 'C', 'D', 'Em', 'G', 'D', 'C', 'D', 'C', 'D', 'Em', 'C', 'D', 'G', 'D', 'Em', 'D', 'G', 'D', 'C', 'Cm', 'G']\n",
      "SONG 10\n",
      "['Am', 'Em', 'Em', 'Am', 'Em', 'Am', 'Am', 'C', 'C', 'D', 'G', 'G7', 'G', 'C', 'D7', 'G', 'G7', 'C', 'D7', 'G', 'C', 'D', 'G', 'D', 'C', 'D', 'G', 'G7', 'C', 'D', 'G', 'C', 'D7', 'G', 'C', 'D', 'G', 'G', 'C', 'D', 'G', 'Em7', 'Em', 'C', 'D', 'G', 'C', 'D7', 'G', 'Em7', 'G7', 'C', 'D', 'G', 'Em', 'G', 'C', 'D', 'D7', 'G', 'Em', 'D', 'C', 'D', 'G', 'C', 'D7', 'G', 'Em', 'G', 'C', 'D', 'G', 'C', 'D', 'C', 'D', 'G', 'Am7', 'Em', 'C', 'Cmaj7', 'C', 'D', 'G', 'Em7', 'G7', 'Cmaj7', 'D7', 'G', 'Em', 'G', 'C', 'D']\n",
      "SONG 11\n",
      "['G', 'F', 'G', 'Am', 'G', 'F', 'G', 'Am', 'G', 'F', 'G', 'Am', 'G', 'F', 'G', 'Am', 'F', 'C', 'G', 'Am', 'F', 'C', 'G', 'F', 'C', 'G', 'Am', 'F', 'C', 'G', 'Am', 'F', 'G', 'Em', 'Am', 'F', 'G', 'Am', 'F', 'G', 'Em', 'Am', 'F', 'G', 'Am', 'F', 'G', 'Em', 'Am', 'F', 'G', 'F', 'C', 'G', 'Am', 'F', 'C', 'G', 'F', 'C', 'G', 'Am', 'F', 'C', 'G', 'Am', 'F', 'G', 'Em', 'Am', 'F', 'G', 'Am', 'F', 'G', 'Em', 'Am', 'F', 'G', 'F', 'C', 'G', 'Am', 'F', 'C', 'G', 'F', 'C', 'G', 'Am', 'F', 'C', 'G', 'Am', 'F', 'G', 'Am', 'F', 'G', 'Am', 'F', 'G', 'Em', 'Am', 'F', 'G', 'F', 'C', 'G', 'Am', 'F', 'C', 'G', 'F', 'C', 'G', 'Am', 'F', 'C', 'F', 'C', 'G', 'Am', 'F', 'C', 'G']\n",
      "SONG 12\n",
      "['Am', 'F', 'C', 'G', 'Am', 'F', 'C', 'G', 'F', 'C', 'Am', 'G', 'F', 'G', 'Am', 'F', 'G', 'C', 'F', 'G', 'C', 'Am', 'F', 'C', 'G', 'Am', 'F', 'C', 'G', 'F', 'C', 'Am', 'G', 'F', 'G', 'Am', 'F', 'G', 'C', 'F', 'G', 'B-', 'B-', 'F', 'C', 'B-', 'F', 'G', 'F', 'C', 'Am', 'G', 'F', 'G', 'Am', 'F', 'G', 'C', 'F', 'G', 'Am', 'F', 'G', 'Am', 'F', 'G', 'C', 'F', 'G', 'F', 'B-', 'F', 'C']\n",
      "SONG 13\n",
      "['C', 'F', 'C', 'F', 'C', 'G', 'Am', 'E', 'F', 'G', 'C', 'Am', 'G', 'C', 'G', 'Am', 'E', 'F', 'G', 'C', 'Am', 'G', 'F', 'F', 'Fm', 'C', 'F', 'Fm', 'C', 'F', 'Fm', 'C', 'G', 'E', 'Am', 'G', 'F', 'G', 'C', 'G', 'Am', 'E', 'F', 'G', 'C', 'Am', 'G', 'C', 'G', 'Am', 'E', 'F', 'G', 'C', 'G', 'Am', 'E', 'F', 'G', 'C', 'Am', 'G', 'C', 'G', 'Am', 'E', 'F', 'G', 'C', 'Am', 'G', 'C', 'G', 'Am', 'E', 'F', 'G', 'C', 'Am', 'G', 'F', 'Fm', 'C', 'F', 'Fm', 'C', 'F', 'Fm', 'C', 'G', 'E', 'Am', 'G', 'F', 'G', 'C', 'G', 'Am', 'E', 'F', 'G', 'C', 'Am', 'G', 'C', 'G', 'Am', 'E', 'F', 'G', 'C', 'Am', 'G', 'F', 'Fm', 'C', 'G', 'E/G#', 'Am', 'G', 'F', 'G', 'G', 'C', 'G', 'Am', 'E', 'F', 'G', 'C', 'Am', 'G', 'C', 'G', 'Am', 'E', 'F', 'G', 'C', 'Am', 'G', 'C', 'G', 'Am', 'E', 'F', 'G', 'C', 'Am', 'G', 'C', 'G', 'Am', 'F', 'Fm', 'C', 'G', 'Am', 'E', 'F', 'Fm', 'C']\n"
     ]
    },
    {
     "name": "stdout",
     "output_type": "stream",
     "text": [
      "SONG 14\n",
      "['C', 'Em', 'Am', 'F', 'C', 'Em', 'Am', 'F', 'F', 'G', 'Am', 'F', 'G', 'Am', 'F', 'G', 'Am', 'Em', 'F', 'Gadd11', 'F', 'G', 'C', 'Am', 'F', 'G', 'Am', 'F', 'G', 'C', 'Am', 'F', 'G', 'Am', 'F', 'G', 'Am', 'F', 'C', 'Em', 'Am', 'F', 'C', 'Em', 'Am', 'F', 'F', 'G', 'Am', 'F', 'G', 'Am', 'F', 'G', 'Am', 'Em', 'F', 'Gadd11', 'F', 'G', 'C', 'Am', 'F', 'G', 'Am', 'F', 'G', 'C', 'Am', 'F', 'G', 'Am', 'F', 'G', 'Am', 'F', 'Dm', 'G', 'Am', 'G', 'F', 'Dm', 'G', 'Am', 'F', 'F', 'G', 'C', 'Am', 'F', 'G', 'Am', 'F', 'G', 'C', 'Am', 'F', 'G', 'Am', 'F', 'G', 'Am', 'F', 'G', 'C']\n",
      "SONG 15\n",
      "['Am', 'E7', 'G', 'D', 'F', 'C', 'Dm', 'E', 'Am', 'E7', 'G', 'D', 'F', 'C', 'Dm', 'E', 'F', 'C', 'E7', 'Am', 'F', 'C', 'Dm', 'E', 'Am', 'E7', 'G', 'D', 'F', 'C', 'Dm', 'E', 'Am', 'E7', 'G', 'D', 'F', 'C', 'Dm', 'E', 'F', 'C', 'E7', 'Am', 'F', 'C', 'Dm', 'E', 'Am', 'E7', 'G', 'D', 'F', 'C', 'Dm', 'E', 'Am', 'E7', 'G', 'D', 'F', 'C', 'Dm', 'E']\n",
      "SONG 16\n",
      "['C', 'F', 'C', 'G/B', 'Am', 'F', 'C', 'F', 'C', 'C', 'F', 'C', 'G/B', 'Am', 'F', 'C', 'F', 'C', 'G/B', 'Am', 'F', 'C', 'G', 'Am', 'F', 'C', 'G', 'C', 'F', 'C', 'C', 'G', 'Am', 'F', 'C', 'F', 'C', 'C', 'F', 'C', 'G/B', 'Am', 'F', 'C', 'F', 'C', 'G/B', 'Am', 'F', 'C', 'G', 'Am', 'F', 'C', 'G', 'Dm', 'G', 'Dm', 'G', 'G', 'Am', 'F', 'C', 'G', 'Am', 'F', 'C', 'G', 'Am', 'F', 'C', 'G', 'Am', 'F', 'C', 'G', 'Am', 'F', 'C', 'G', 'Am', 'F', 'C', 'G', 'C', 'F', 'C']\n",
      "SONG 17\n",
      "['Am', 'Dm', 'E', 'Am', 'G', 'F', 'Dm', 'E', 'Am', 'Dm', 'E', 'Am', 'G', 'F', 'Dm', 'E', 'F', 'G', 'E', 'Am', 'G', 'F', 'G', 'E', 'Am', 'G', 'F', 'G', 'E', 'Am', 'G', 'F', 'Dm', 'E', 'Am', 'F', 'Dm', 'Am', 'F', 'Dm', 'E', 'F', 'G', 'E', 'Am', 'G', 'F', 'G', 'E', 'Am', 'G', 'F', 'G', 'E', 'Am', 'G', 'F', 'Dm', 'E', 'Am']\n",
      "SONG 18\n",
      "['G', 'C', 'G', 'G', 'C', 'G', 'Em', 'E', 'Am', 'D', 'G', 'C', 'D', 'G', 'C', 'G', 'G', 'C', 'G', 'Em', 'E', 'Am', 'D', 'G', 'Am', 'C', 'D', 'G', 'C', 'D', 'Bm', 'Em', 'Am', 'C', 'D', 'D', 'G', 'G7', 'C', 'D', 'Bm', 'Em', 'Am', 'C', 'D', 'G', 'G', 'C', 'G', 'G', 'C', 'G', 'Em', 'E', 'Am', 'D', 'G', 'Am', 'D', 'G', 'C', 'D', 'Bm', 'Em', 'Am', 'C', 'D', 'D', 'G', 'G7', 'C', 'D', 'Bm', 'Em', 'Am', 'C', 'D', 'G', 'Em', 'D', 'C', 'Em', 'D', 'C', 'Em', 'D', 'C', 'Em', 'D', 'C', 'Em', 'D', 'Bm', 'Em', 'Am', 'C', 'D', 'D', 'G', 'G7', 'C', 'D', 'Bm', 'Em', 'Am', 'C', 'D', 'G']\n",
      "SONG 19\n",
      "['C', 'D', 'G', 'Em', 'C', 'D', 'G', 'G7', 'C', 'D', 'G', 'Em', 'C', 'D', 'G', 'G', 'C', 'D', 'G', 'Em', 'Am', 'D', 'G', 'G', 'C', 'D', 'G', 'Em', 'Am', 'D', 'G', 'C', 'D', 'G', 'D', 'E', 'Am', 'D', 'G', 'C', 'G', 'C', 'G', 'C', 'D', 'G', 'Em', 'Am', 'D', 'G', 'G', 'C', 'D', 'G', 'Em', 'Am', 'D', 'G', 'C', 'D', 'G', 'D', 'E', 'Am', 'D', 'G', 'C', 'D', 'G', 'D', 'E', 'Am', 'D', 'C', 'G', 'Am', 'D', 'E', 'A', 'D', 'E', 'A', 'E', 'F#m', 'Bm', 'E', 'A', 'D', 'E', 'A', 'E', 'F#', 'Bm', 'E', 'A', 'D', 'E', 'A', 'E', 'F#', 'Bm', 'E', 'A', 'F#', 'Bm', 'E', 'D', 'D', 'E', 'A', 'F#m', 'D', 'E', 'A']\n",
      "SONG 20\n",
      "['Am', 'G', 'C', 'Am', 'G', 'C', 'Am', 'G', 'C', 'Am', 'G', 'C', 'Am', 'G', 'C', 'Am', 'G', 'C', 'Am', 'G', 'C', 'Am', 'G', 'C', 'Am', 'G', 'C', 'Am', 'G', 'C', 'Am', 'G', 'C', 'Am', 'G', 'C', 'Am', 'G', 'C', 'Am', 'G', 'C', 'Am', 'G', 'C', 'Am', 'G', 'C', 'Am', 'G', 'C', 'Am', 'G', 'C', 'Am', 'G', 'C', 'Am', 'G', 'C', 'Am', 'G', 'C', 'Am', 'G', 'C', 'Am', 'G', 'C', 'Fmaj7', 'Am', 'G', 'C', 'Fmaj7', 'Am', 'G', 'C', 'Am', 'G', 'C', 'Am', 'G', 'C', 'Am', 'G', 'C', 'Am', 'G', 'C', 'Am', 'G', 'C', 'Am', 'G', 'C', 'Am', 'G', 'C', 'Am', 'G', 'C', 'Am', 'G', 'C', 'Am', 'G', 'C', 'Am', 'G', 'C', 'Am', 'G', 'C', 'Am', 'G', 'C', 'Am', 'G', 'C']\n",
      "SONG 21\n",
      "['Dadd2/A', 'Bm7', 'D/F#', 'Gmaj7', 'Em7', 'Asus4', 'Cadd9', 'Cadd2', 'B-maj7', 'Dadd2/A', 'Bm7', 'D/F#', 'Gmaj7', 'Dadd2/A', 'Bm7', 'D/F#', 'Gmaj7', 'Dadd2/A', 'Bm7', 'D/F#', 'Gmaj7', 'Em7', 'D/F#', 'Gmaj7', 'Em7', 'D/F#', 'Gmaj7', 'Dadd2/A', 'Gmaj7', 'Bm7', 'D/F#', 'Gmaj7', 'Dadd2/A', 'Gmaj7', 'Bm7', 'D/F#', 'Gmaj7', 'Dadd2/A', 'Bm7', 'D/F#', 'Gmaj7', 'Dadd2/A', 'Bm7', 'D/F#', 'Gmaj7', 'Em7', 'D/F#', 'Gmaj7', 'Em7', 'D/F#', 'Gmaj7', 'Dadd2/A', 'Gmaj7', 'Bm7', 'D/F#', 'Gmaj7', 'Dadd2/A', 'Gmaj7', 'Bm7', 'D/F#', 'Gmaj7', 'Bm7', 'B-maj7', 'Asus4', 'Gmaj7', 'Em7', 'Cadd9', 'Cadd2', 'Dadd2/A', 'Gmaj7', 'Bm7', 'Gmaj7', 'Dadd2/A', 'Gmaj7', 'Bm7', 'D/F#', 'Gmaj7', 'Dadd2/A', 'Gmaj7', 'Bm7', 'D/F#', 'Gmaj7', 'Dadd2/A', 'Gmaj7', 'Bm7', 'D/F#', 'Gmaj7', 'Dadd2/A', 'Gmaj7', 'Bm7', 'D/F#', 'Gmaj7', 'Bm7', 'D/F#', 'Gmaj7', 'Bm7', 'D/F#', 'Gmaj7']\n",
      "SONG 22\n",
      "['C', 'G/B', 'Am', 'Dm', 'C', 'G/B', 'C', 'G/B', 'Am', 'Dm', 'C', 'G/B', 'C', 'G/B', 'Am', 'Dm', 'C', 'G/B', 'C', 'G/B', 'Am', 'Dm', 'C', 'G/B', 'Am', 'F', 'C', 'Am', 'F', 'C', 'Am', 'F', 'C', 'G', 'Am', 'F', 'G', 'C', 'G', 'Am', 'F', 'C', 'G', 'C', 'C', 'G', 'Am', 'F', 'C', 'G', 'C', 'C', 'G/B', 'Am', 'Dm', 'C', 'G/B', 'C', 'G/B', 'Am', 'Dm', 'C', 'G/B', 'C', 'G/B', 'Am', 'Dm', 'C', 'G/B', 'C', 'G/B', 'Am', 'Dm', 'C', 'G/B', 'Am', 'F', 'C', 'Am', 'F', 'C', 'Am', 'F', 'C', 'G', 'Am', 'F', 'G', 'C', 'G', 'Am', 'F', 'C', 'G', 'C', 'C', 'G', 'Am', 'F', 'C', 'G', 'C', 'C', 'G', 'Am', 'F', 'C', 'G', 'C', 'C', 'G', 'Am', 'F', 'C', 'G', 'C', 'C', 'G/B', 'Am', 'Dm', 'C', 'G/B', 'C', 'G/B', 'Am', 'Dm', 'C', 'G/B', 'C', 'G', 'Am', 'F', 'C', 'G', 'C', 'C', 'G', 'Am', 'F', 'C', 'G', 'C', 'C', 'G', 'Am', 'F', 'C', 'G', 'C', 'C', 'G', 'Am', 'F', 'C', 'G', 'C']\n"
     ]
    },
    {
     "ename": "KeyboardInterrupt",
     "evalue": "",
     "output_type": "error",
     "traceback": [
      "\u001b[0;31m---------------------------------------------------------------------------\u001b[0m",
      "\u001b[0;31mKeyboardInterrupt\u001b[0m                         Traceback (most recent call last)",
      "\u001b[0;32m<ipython-input-96-62eb8933cf6a>\u001b[0m in \u001b[0;36m<module>\u001b[0;34m\u001b[0m\n\u001b[0;32m----> 1\u001b[0;31m \u001b[0mpreprocess\u001b[0m\u001b[0;34m(\u001b[0m\u001b[0;34m)\u001b[0m\u001b[0;34m\u001b[0m\u001b[0m\n\u001b[0m",
      "\u001b[0;32m<ipython-input-95-fe83eea281ce>\u001b[0m in \u001b[0;36mpreprocess\u001b[0;34m()\u001b[0m\n\u001b[1;32m     23\u001b[0m             \u001b[0mprint\u001b[0m\u001b[0;34m(\u001b[0m\u001b[0;34m\"SONG {}\"\u001b[0m\u001b[0;34m.\u001b[0m\u001b[0mformat\u001b[0m\u001b[0;34m(\u001b[0m\u001b[0mcount\u001b[0m\u001b[0;34m)\u001b[0m\u001b[0;34m)\u001b[0m\u001b[0;34m\u001b[0m\u001b[0m\n\u001b[1;32m     24\u001b[0m             \u001b[0mprint\u001b[0m\u001b[0;34m(\u001b[0m\u001b[0mchs\u001b[0m\u001b[0;34m)\u001b[0m\u001b[0;34m\u001b[0m\u001b[0m\n\u001b[0;32m---> 25\u001b[0;31m             \u001b[0mchs\u001b[0m \u001b[0;34m=\u001b[0m \u001b[0mtomusic21\u001b[0m\u001b[0;34m(\u001b[0m\u001b[0mchs\u001b[0m\u001b[0;34m)\u001b[0m\u001b[0;34m\u001b[0m\u001b[0m\n\u001b[0m\u001b[1;32m     26\u001b[0m             \u001b[0mcount\u001b[0m \u001b[0;34m+=\u001b[0m \u001b[0;36m1\u001b[0m\u001b[0;34m\u001b[0m\u001b[0m\n\u001b[1;32m     27\u001b[0m             \u001b[0;31m#print(\"{} - {}\".format(song['chords'], transpose_chs(chs, song['tonality_name'])))\u001b[0m\u001b[0;34m\u001b[0m\u001b[0;34m\u001b[0m\u001b[0m\n",
      "\u001b[0;32m<ipython-input-5-572b6c12e9d3>\u001b[0m in \u001b[0;36mtomusic21\u001b[0;34m(ch)\u001b[0m\n\u001b[1;32m      5\u001b[0m \u001b[0;32mdef\u001b[0m \u001b[0mtomusic21\u001b[0m\u001b[0;34m(\u001b[0m\u001b[0mch\u001b[0m\u001b[0;34m)\u001b[0m\u001b[0;34m:\u001b[0m\u001b[0;34m\u001b[0m\u001b[0m\n\u001b[1;32m      6\u001b[0m   \u001b[0;31m# flatten human-written chords into music21 chord objects\u001b[0m\u001b[0;34m\u001b[0m\u001b[0;34m\u001b[0m\u001b[0m\n\u001b[0;32m----> 7\u001b[0;31m   \u001b[0;32mreturn\u001b[0m \u001b[0;34m[\u001b[0m\u001b[0mchord\u001b[0m\u001b[0;34m.\u001b[0m\u001b[0mChord\u001b[0m\u001b[0;34m(\u001b[0m\u001b[0mharmony\u001b[0m\u001b[0;34m.\u001b[0m\u001b[0mChordSymbol\u001b[0m\u001b[0;34m(\u001b[0m\u001b[0mc\u001b[0m\u001b[0;34m)\u001b[0m\u001b[0;34m)\u001b[0m \u001b[0;32mfor\u001b[0m \u001b[0mc\u001b[0m \u001b[0;32min\u001b[0m \u001b[0mch\u001b[0m\u001b[0;34m]\u001b[0m\u001b[0;34m\u001b[0m\u001b[0m\n\u001b[0m\u001b[1;32m      8\u001b[0m \u001b[0;34m\u001b[0m\u001b[0m\n\u001b[1;32m      9\u001b[0m \u001b[0;32mdef\u001b[0m \u001b[0mflatten\u001b[0m\u001b[0;34m(\u001b[0m\u001b[0mch\u001b[0m\u001b[0;34m)\u001b[0m\u001b[0;34m:\u001b[0m\u001b[0;34m\u001b[0m\u001b[0m\n",
      "\u001b[0;32m<ipython-input-5-572b6c12e9d3>\u001b[0m in \u001b[0;36m<listcomp>\u001b[0;34m(.0)\u001b[0m\n\u001b[1;32m      5\u001b[0m \u001b[0;32mdef\u001b[0m \u001b[0mtomusic21\u001b[0m\u001b[0;34m(\u001b[0m\u001b[0mch\u001b[0m\u001b[0;34m)\u001b[0m\u001b[0;34m:\u001b[0m\u001b[0;34m\u001b[0m\u001b[0m\n\u001b[1;32m      6\u001b[0m   \u001b[0;31m# flatten human-written chords into music21 chord objects\u001b[0m\u001b[0;34m\u001b[0m\u001b[0;34m\u001b[0m\u001b[0m\n\u001b[0;32m----> 7\u001b[0;31m   \u001b[0;32mreturn\u001b[0m \u001b[0;34m[\u001b[0m\u001b[0mchord\u001b[0m\u001b[0;34m.\u001b[0m\u001b[0mChord\u001b[0m\u001b[0;34m(\u001b[0m\u001b[0mharmony\u001b[0m\u001b[0;34m.\u001b[0m\u001b[0mChordSymbol\u001b[0m\u001b[0;34m(\u001b[0m\u001b[0mc\u001b[0m\u001b[0;34m)\u001b[0m\u001b[0;34m)\u001b[0m \u001b[0;32mfor\u001b[0m \u001b[0mc\u001b[0m \u001b[0;32min\u001b[0m \u001b[0mch\u001b[0m\u001b[0;34m]\u001b[0m\u001b[0;34m\u001b[0m\u001b[0m\n\u001b[0m\u001b[1;32m      8\u001b[0m \u001b[0;34m\u001b[0m\u001b[0m\n\u001b[1;32m      9\u001b[0m \u001b[0;32mdef\u001b[0m \u001b[0mflatten\u001b[0m\u001b[0;34m(\u001b[0m\u001b[0mch\u001b[0m\u001b[0;34m)\u001b[0m\u001b[0;34m:\u001b[0m\u001b[0;34m\u001b[0m\u001b[0m\n",
      "\u001b[0;32m~/.local/share/virtualenvs/uh2019-music-gzXjSOiB/lib/python3.6/site-packages/music21/harmony.py\u001b[0m in \u001b[0;36m__init__\u001b[0;34m(self, figure, **keywords)\u001b[0m\n\u001b[1;32m   1523\u001b[0m                 \u001b[0mself\u001b[0m\u001b[0;34m.\u001b[0m\u001b[0mchordKindStr\u001b[0m \u001b[0;34m=\u001b[0m \u001b[0mkeywords\u001b[0m\u001b[0;34m[\u001b[0m\u001b[0mkw\u001b[0m\u001b[0;34m]\u001b[0m\u001b[0;34m\u001b[0m\u001b[0m\n\u001b[1;32m   1524\u001b[0m \u001b[0;34m\u001b[0m\u001b[0m\n\u001b[0;32m-> 1525\u001b[0;31m         \u001b[0msuper\u001b[0m\u001b[0;34m(\u001b[0m\u001b[0;34m)\u001b[0m\u001b[0;34m.\u001b[0m\u001b[0m__init__\u001b[0m\u001b[0;34m(\u001b[0m\u001b[0mfigure\u001b[0m\u001b[0;34m,\u001b[0m \u001b[0;34m**\u001b[0m\u001b[0mkeywords\u001b[0m\u001b[0;34m)\u001b[0m\u001b[0;34m\u001b[0m\u001b[0m\n\u001b[0m\u001b[1;32m   1526\u001b[0m         \u001b[0;32mif\u001b[0m \u001b[0;34m'duration'\u001b[0m \u001b[0;32mnot\u001b[0m \u001b[0;32min\u001b[0m \u001b[0mkeywords\u001b[0m \u001b[0;32mand\u001b[0m \u001b[0;34m'quarterLength'\u001b[0m \u001b[0;32mnot\u001b[0m \u001b[0;32min\u001b[0m \u001b[0mkeywords\u001b[0m\u001b[0;34m:\u001b[0m\u001b[0;34m\u001b[0m\u001b[0m\n\u001b[1;32m   1527\u001b[0m             \u001b[0mself\u001b[0m\u001b[0;34m.\u001b[0m\u001b[0mduration\u001b[0m \u001b[0;34m=\u001b[0m \u001b[0mduration\u001b[0m\u001b[0;34m.\u001b[0m\u001b[0mDuration\u001b[0m\u001b[0;34m(\u001b[0m\u001b[0;36m0\u001b[0m\u001b[0;34m)\u001b[0m\u001b[0;34m\u001b[0m\u001b[0m\n",
      "\u001b[0;32m~/.local/share/virtualenvs/uh2019-music-gzXjSOiB/lib/python3.6/site-packages/music21/harmony.py\u001b[0m in \u001b[0;36m__init__\u001b[0;34m(self, figure, **keywords)\u001b[0m\n\u001b[1;32m    205\u001b[0m         if (updatePitches and self._figure is not None\n\u001b[1;32m    206\u001b[0m                 or 'root' in self._overrides or 'bass' in self._overrides):\n\u001b[0;32m--> 207\u001b[0;31m             \u001b[0mself\u001b[0m\u001b[0;34m.\u001b[0m\u001b[0m_updatePitches\u001b[0m\u001b[0;34m(\u001b[0m\u001b[0;34m)\u001b[0m\u001b[0;34m\u001b[0m\u001b[0m\n\u001b[0m\u001b[1;32m    208\u001b[0m         \u001b[0mself\u001b[0m\u001b[0;34m.\u001b[0m\u001b[0m_updateBasedOnXMLInput\u001b[0m\u001b[0;34m(\u001b[0m\u001b[0mkeywords\u001b[0m\u001b[0;34m)\u001b[0m\u001b[0;34m\u001b[0m\u001b[0m\n\u001b[1;32m    209\u001b[0m \u001b[0;34m\u001b[0m\u001b[0m\n",
      "\u001b[0;32m~/.local/share/virtualenvs/uh2019-music-gzXjSOiB/lib/python3.6/site-packages/music21/harmony.py\u001b[0m in \u001b[0;36m_updatePitches\u001b[0;34m(self)\u001b[0m\n\u001b[1;32m   1946\u001b[0m \u001b[0;34m\u001b[0m\u001b[0m\n\u001b[1;32m   1947\u001b[0m         \u001b[0;32mif\u001b[0m \u001b[0mself\u001b[0m\u001b[0;34m.\u001b[0m\u001b[0m_notationString\u001b[0m\u001b[0;34m(\u001b[0m\u001b[0;34m)\u001b[0m\u001b[0;34m:\u001b[0m\u001b[0;34m\u001b[0m\u001b[0m\n\u001b[0;32m-> 1948\u001b[0;31m             \u001b[0mpitches\u001b[0m \u001b[0;34m=\u001b[0m \u001b[0mfbScale\u001b[0m\u001b[0;34m.\u001b[0m\u001b[0mgetSamplePitches\u001b[0m\u001b[0;34m(\u001b[0m\u001b[0mself\u001b[0m\u001b[0;34m.\u001b[0m\u001b[0m_overrides\u001b[0m\u001b[0;34m[\u001b[0m\u001b[0;34m'root'\u001b[0m\u001b[0;34m]\u001b[0m\u001b[0;34m,\u001b[0m \u001b[0mself\u001b[0m\u001b[0;34m.\u001b[0m\u001b[0m_notationString\u001b[0m\u001b[0;34m(\u001b[0m\u001b[0;34m)\u001b[0m\u001b[0;34m)\u001b[0m\u001b[0;34m\u001b[0m\u001b[0m\n\u001b[0m\u001b[1;32m   1949\u001b[0m             \u001b[0;31m# remove duplicated bass note due to figured bass method.\u001b[0m\u001b[0;34m\u001b[0m\u001b[0;34m\u001b[0m\u001b[0m\n\u001b[1;32m   1950\u001b[0m             \u001b[0mpitches\u001b[0m\u001b[0;34m.\u001b[0m\u001b[0mpop\u001b[0m\u001b[0;34m(\u001b[0m\u001b[0;36m0\u001b[0m\u001b[0;34m)\u001b[0m\u001b[0;34m\u001b[0m\u001b[0m\n",
      "\u001b[0;32m~/.local/share/virtualenvs/uh2019-music-gzXjSOiB/lib/python3.6/site-packages/music21/figuredBass/realizerScale.py\u001b[0m in \u001b[0;36mgetSamplePitches\u001b[0;34m(self, bassPitch, notationString)\u001b[0m\n\u001b[1;32m    146\u001b[0m         \u001b[0mmaxPitch\u001b[0m \u001b[0;34m=\u001b[0m \u001b[0mbassPitch\u001b[0m\u001b[0;34m.\u001b[0m\u001b[0mtranspose\u001b[0m\u001b[0;34m(\u001b[0m\u001b[0;34m'd8'\u001b[0m\u001b[0;34m)\u001b[0m\u001b[0;34m\u001b[0m\u001b[0m\n\u001b[1;32m    147\u001b[0m \u001b[0;34m\u001b[0m\u001b[0m\n\u001b[0;32m--> 148\u001b[0;31m         \u001b[0msamplePitches\u001b[0m \u001b[0;34m=\u001b[0m \u001b[0mself\u001b[0m\u001b[0;34m.\u001b[0m\u001b[0mgetPitches\u001b[0m\u001b[0;34m(\u001b[0m\u001b[0mbassPitch\u001b[0m\u001b[0;34m,\u001b[0m \u001b[0mnotationString\u001b[0m\u001b[0;34m,\u001b[0m \u001b[0mmaxPitch\u001b[0m\u001b[0;34m)\u001b[0m\u001b[0;34m\u001b[0m\u001b[0m\n\u001b[0m\u001b[1;32m    149\u001b[0m         \u001b[0;32mreturn\u001b[0m \u001b[0msamplePitches\u001b[0m\u001b[0;34m\u001b[0m\u001b[0m\n\u001b[1;32m    150\u001b[0m \u001b[0;34m\u001b[0m\u001b[0m\n",
      "\u001b[0;32m~/.local/share/virtualenvs/uh2019-music-gzXjSOiB/lib/python3.6/site-packages/music21/figuredBass/realizerScale.py\u001b[0m in \u001b[0;36mgetPitches\u001b[0;34m(self, bassPitch, notationString, maxPitch)\u001b[0m\n\u001b[1;32m    182\u001b[0m         \u001b[0mbassPitch\u001b[0m \u001b[0;34m=\u001b[0m \u001b[0mconvertToPitch\u001b[0m\u001b[0;34m(\u001b[0m\u001b[0mbassPitch\u001b[0m\u001b[0;34m)\u001b[0m\u001b[0;34m\u001b[0m\u001b[0m\n\u001b[1;32m    183\u001b[0m         \u001b[0mmaxPitch\u001b[0m \u001b[0;34m=\u001b[0m \u001b[0mconvertToPitch\u001b[0m\u001b[0;34m(\u001b[0m\u001b[0mmaxPitch\u001b[0m\u001b[0;34m)\u001b[0m\u001b[0;34m\u001b[0m\u001b[0m\n\u001b[0;32m--> 184\u001b[0;31m         \u001b[0mpitchNames\u001b[0m \u001b[0;34m=\u001b[0m \u001b[0mself\u001b[0m\u001b[0;34m.\u001b[0m\u001b[0mgetPitchNames\u001b[0m\u001b[0;34m(\u001b[0m\u001b[0mbassPitch\u001b[0m\u001b[0;34m,\u001b[0m \u001b[0mnotationString\u001b[0m\u001b[0;34m)\u001b[0m\u001b[0;34m\u001b[0m\u001b[0m\n\u001b[0m\u001b[1;32m    185\u001b[0m         \u001b[0miter1\u001b[0m \u001b[0;34m=\u001b[0m \u001b[0mitertools\u001b[0m\u001b[0;34m.\u001b[0m\u001b[0mproduct\u001b[0m\u001b[0;34m(\u001b[0m\u001b[0mpitchNames\u001b[0m\u001b[0;34m,\u001b[0m \u001b[0mrange\u001b[0m\u001b[0;34m(\u001b[0m\u001b[0mmaxPitch\u001b[0m\u001b[0;34m.\u001b[0m\u001b[0moctave\u001b[0m \u001b[0;34m+\u001b[0m \u001b[0;36m1\u001b[0m\u001b[0;34m)\u001b[0m\u001b[0;34m)\u001b[0m\u001b[0;34m\u001b[0m\u001b[0m\n\u001b[1;32m    186\u001b[0m         \u001b[0miter2\u001b[0m \u001b[0;34m=\u001b[0m \u001b[0mmap\u001b[0m\u001b[0;34m(\u001b[0m\u001b[0;32mlambda\u001b[0m \u001b[0mx\u001b[0m\u001b[0;34m:\u001b[0m \u001b[0mpitch\u001b[0m\u001b[0;34m.\u001b[0m\u001b[0mPitch\u001b[0m\u001b[0;34m(\u001b[0m\u001b[0mx\u001b[0m\u001b[0;34m[\u001b[0m\u001b[0;36m0\u001b[0m\u001b[0;34m]\u001b[0m \u001b[0;34m+\u001b[0m \u001b[0mstr\u001b[0m\u001b[0;34m(\u001b[0m\u001b[0mx\u001b[0m\u001b[0;34m[\u001b[0m\u001b[0;36m1\u001b[0m\u001b[0;34m]\u001b[0m\u001b[0;34m)\u001b[0m\u001b[0;34m)\u001b[0m\u001b[0;34m,\u001b[0m \u001b[0miter1\u001b[0m\u001b[0;34m)\u001b[0m\u001b[0;34m\u001b[0m\u001b[0m\n",
      "\u001b[0;32m~/.local/share/virtualenvs/uh2019-music-gzXjSOiB/lib/python3.6/site-packages/music21/figuredBass/realizerScale.py\u001b[0m in \u001b[0;36mgetPitchNames\u001b[0;34m(self, bassPitch, notationString)\u001b[0m\n\u001b[1;32m     96\u001b[0m         \u001b[0;32mfor\u001b[0m \u001b[0mi\u001b[0m \u001b[0;32min\u001b[0m \u001b[0mrange\u001b[0m\u001b[0;34m(\u001b[0m\u001b[0mlen\u001b[0m\u001b[0;34m(\u001b[0m\u001b[0mnt\u001b[0m\u001b[0;34m.\u001b[0m\u001b[0mnumbers\u001b[0m\u001b[0;34m)\u001b[0m\u001b[0;34m)\u001b[0m\u001b[0;34m:\u001b[0m\u001b[0;34m\u001b[0m\u001b[0m\n\u001b[1;32m     97\u001b[0m             \u001b[0mpitchSD\u001b[0m \u001b[0;34m=\u001b[0m \u001b[0;34m(\u001b[0m\u001b[0mbassSD\u001b[0m \u001b[0;34m+\u001b[0m \u001b[0mnt\u001b[0m\u001b[0;34m.\u001b[0m\u001b[0mnumbers\u001b[0m\u001b[0;34m[\u001b[0m\u001b[0mi\u001b[0m\u001b[0;34m]\u001b[0m \u001b[0;34m-\u001b[0m \u001b[0;36m1\u001b[0m\u001b[0;34m)\u001b[0m \u001b[0;34m%\u001b[0m \u001b[0;36m7\u001b[0m\u001b[0;34m\u001b[0m\u001b[0m\n\u001b[0;32m---> 98\u001b[0;31m             \u001b[0msamplePitch\u001b[0m \u001b[0;34m=\u001b[0m \u001b[0mself\u001b[0m\u001b[0;34m.\u001b[0m\u001b[0mrealizerScale\u001b[0m\u001b[0;34m.\u001b[0m\u001b[0mpitchFromDegree\u001b[0m\u001b[0;34m(\u001b[0m\u001b[0mpitchSD\u001b[0m\u001b[0;34m)\u001b[0m\u001b[0;34m\u001b[0m\u001b[0m\n\u001b[0m\u001b[1;32m     99\u001b[0m             \u001b[0mpitchName\u001b[0m \u001b[0;34m=\u001b[0m \u001b[0mnt\u001b[0m\u001b[0;34m.\u001b[0m\u001b[0mmodifiers\u001b[0m\u001b[0;34m[\u001b[0m\u001b[0mi\u001b[0m\u001b[0;34m]\u001b[0m\u001b[0;34m.\u001b[0m\u001b[0mmodifyPitchName\u001b[0m\u001b[0;34m(\u001b[0m\u001b[0msamplePitch\u001b[0m\u001b[0;34m.\u001b[0m\u001b[0mname\u001b[0m\u001b[0;34m)\u001b[0m\u001b[0;34m\u001b[0m\u001b[0m\n\u001b[1;32m    100\u001b[0m             \u001b[0mpitchNames\u001b[0m\u001b[0;34m.\u001b[0m\u001b[0mappend\u001b[0m\u001b[0;34m(\u001b[0m\u001b[0mpitchName\u001b[0m\u001b[0;34m)\u001b[0m\u001b[0;34m\u001b[0m\u001b[0m\n",
      "\u001b[0;32m~/.local/share/virtualenvs/uh2019-music-gzXjSOiB/lib/python3.6/site-packages/music21/scale/__init__.py\u001b[0m in \u001b[0;36mpitchFromDegree\u001b[0;34m(self, degree, minPitch, maxPitch, direction, equateTermini)\u001b[0m\n\u001b[1;32m   1584\u001b[0m             \u001b[0mminPitch\u001b[0m\u001b[0;34m=\u001b[0m\u001b[0mminPitch\u001b[0m\u001b[0;34m,\u001b[0m\u001b[0;34m\u001b[0m\u001b[0m\n\u001b[1;32m   1585\u001b[0m             \u001b[0mmaxPitch\u001b[0m\u001b[0;34m=\u001b[0m\u001b[0mmaxPitch\u001b[0m\u001b[0;34m,\u001b[0m\u001b[0;34m\u001b[0m\u001b[0m\n\u001b[0;32m-> 1586\u001b[0;31m             equateTermini=equateTermini)\n\u001b[0m\u001b[1;32m   1587\u001b[0m         \u001b[0;32mreturn\u001b[0m \u001b[0mpost\u001b[0m\u001b[0;34m\u001b[0m\u001b[0m\n\u001b[1;32m   1588\u001b[0m \u001b[0;34m\u001b[0m\u001b[0m\n",
      "\u001b[0;32m~/.local/share/virtualenvs/uh2019-music-gzXjSOiB/lib/python3.6/site-packages/music21/scale/__init__.py\u001b[0m in \u001b[0;36mgetPitchFromNodeDegree\u001b[0;34m(self, pitchReference, nodeName, nodeDegreeTarget, direction, minPitch, maxPitch, equateTermini)\u001b[0m\n\u001b[1;32m    461\u001b[0m             \u001b[0mmaxPitch\u001b[0m\u001b[0;34m=\u001b[0m\u001b[0mmaxPitch\u001b[0m\u001b[0;34m,\u001b[0m\u001b[0;34m\u001b[0m\u001b[0m\n\u001b[1;32m    462\u001b[0m             \u001b[0malteredDegrees\u001b[0m\u001b[0;34m=\u001b[0m\u001b[0mself\u001b[0m\u001b[0;34m.\u001b[0m\u001b[0m_alteredDegrees\u001b[0m\u001b[0;34m,\u001b[0m\u001b[0;34m\u001b[0m\u001b[0m\n\u001b[0;32m--> 463\u001b[0;31m             \u001b[0mequateTermini\u001b[0m\u001b[0;34m=\u001b[0m\u001b[0mequateTermini\u001b[0m\u001b[0;34m\u001b[0m\u001b[0m\n\u001b[0m\u001b[1;32m    464\u001b[0m             )\n\u001b[1;32m    465\u001b[0m         \u001b[0;32mreturn\u001b[0m \u001b[0mcopy\u001b[0m\u001b[0;34m.\u001b[0m\u001b[0mdeepcopy\u001b[0m\u001b[0;34m(\u001b[0m\u001b[0mpost\u001b[0m\u001b[0;34m)\u001b[0m\u001b[0;34m\u001b[0m\u001b[0m\n",
      "\u001b[0;32m~/.local/share/virtualenvs/uh2019-music-gzXjSOiB/lib/python3.6/site-packages/music21/scale/intervalNetwork.py\u001b[0m in \u001b[0;36mgetPitchFromNodeDegree\u001b[0;34m(self, pitchReference, nodeName, nodeDegreeTarget, direction, minPitch, maxPitch, alteredDegrees, equateTermini)\u001b[0m\n\u001b[1;32m   2605\u001b[0m                 \u001b[0mmaxPitch\u001b[0m\u001b[0;34m=\u001b[0m\u001b[0mmaxPitch\u001b[0m\u001b[0;34m,\u001b[0m\u001b[0;34m\u001b[0m\u001b[0m\n\u001b[1;32m   2606\u001b[0m                 \u001b[0mdirection\u001b[0m\u001b[0;34m=\u001b[0m\u001b[0mdirection\u001b[0m\u001b[0;34m,\u001b[0m\u001b[0;34m\u001b[0m\u001b[0m\n\u001b[0;32m-> 2607\u001b[0;31m                 alteredDegrees=alteredDegrees)\n\u001b[0m\u001b[1;32m   2608\u001b[0m \u001b[0;34m\u001b[0m\u001b[0m\n\u001b[1;32m   2609\u001b[0m             \u001b[0;31m#environLocal.printDebug(['getPitchFromNodeDegree()',\u001b[0m\u001b[0;34m\u001b[0m\u001b[0;34m\u001b[0m\u001b[0m\n",
      "\u001b[0;32m~/.local/share/virtualenvs/uh2019-music-gzXjSOiB/lib/python3.6/site-packages/music21/scale/intervalNetwork.py\u001b[0m in \u001b[0;36mrealize\u001b[0;34m(self, pitchReference, nodeId, minPitch, maxPitch, direction, alteredDegrees, reverse)\u001b[0m\n\u001b[1;32m   1712\u001b[0m             \u001b[0mpitchReference\u001b[0m\u001b[0;34m.\u001b[0m\u001b[0moctave\u001b[0m \u001b[0;34m=\u001b[0m \u001b[0mpitchReference\u001b[0m\u001b[0;34m.\u001b[0m\u001b[0mimplicitOctave\u001b[0m\u001b[0;34m\u001b[0m\u001b[0m\n\u001b[1;32m   1713\u001b[0m \u001b[0;34m\u001b[0m\u001b[0m\n\u001b[0;32m-> 1714\u001b[0;31m         \u001b[0;32mif\u001b[0m \u001b[0misinstance\u001b[0m\u001b[0;34m(\u001b[0m\u001b[0mminPitch\u001b[0m\u001b[0;34m,\u001b[0m \u001b[0mstr\u001b[0m\u001b[0;34m)\u001b[0m\u001b[0;34m:\u001b[0m\u001b[0;34m\u001b[0m\u001b[0m\n\u001b[0m\u001b[1;32m   1715\u001b[0m             \u001b[0mminPitch\u001b[0m \u001b[0;34m=\u001b[0m \u001b[0mpitch\u001b[0m\u001b[0;34m.\u001b[0m\u001b[0mPitch\u001b[0m\u001b[0;34m(\u001b[0m\u001b[0mminPitch\u001b[0m\u001b[0;34m)\u001b[0m\u001b[0;34m\u001b[0m\u001b[0m\n\u001b[1;32m   1716\u001b[0m         \u001b[0;32mif\u001b[0m \u001b[0misinstance\u001b[0m\u001b[0;34m(\u001b[0m\u001b[0mmaxPitch\u001b[0m\u001b[0;34m,\u001b[0m \u001b[0mstr\u001b[0m\u001b[0;34m)\u001b[0m\u001b[0;34m:\u001b[0m\u001b[0;34m\u001b[0m\u001b[0m\n",
      "\u001b[0;31mKeyboardInterrupt\u001b[0m: "
     ]
    }
   ],
   "source": [
    "preprocess()"
   ]
  },
  {
   "cell_type": "code",
   "execution_count": 94,
   "metadata": {},
   "outputs": [
    {
     "data": {
      "text/plain": [
       "<music21.chord.Chord D3 E3 F#3 A3 C4>"
      ]
     },
     "execution_count": 94,
     "metadata": {},
     "output_type": "execute_result"
    }
   ],
   "source": [
    "tomusic21(['D7add2'])[0]"
   ]
  },
  {
   "cell_type": "code",
   "execution_count": null,
   "metadata": {},
   "outputs": [],
   "source": []
  }
 ],
 "metadata": {
  "kernelspec": {
   "display_name": "uh2019-music-gzXjSOiB",
   "language": "python",
   "name": "uh2019-music-gzxjsoib"
  },
  "language_info": {
   "codemirror_mode": {
    "name": "ipython",
    "version": 3
   },
   "file_extension": ".py",
   "mimetype": "text/x-python",
   "name": "python",
   "nbconvert_exporter": "python",
   "pygments_lexer": "ipython3",
   "version": "3.6.3"
  }
 },
 "nbformat": 4,
 "nbformat_minor": 2
}
